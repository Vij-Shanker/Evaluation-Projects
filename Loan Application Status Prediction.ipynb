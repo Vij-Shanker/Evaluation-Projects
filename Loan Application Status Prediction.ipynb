{
 "cells": [
  {
   "cell_type": "markdown",
   "id": "49fab708",
   "metadata": {},
   "source": [
    "## Project Description\n",
    "- This dataset includes details of applicants who have applied for loan. The dataset includes details like credit history, loan amount, their income, dependents etc. \n"
   ]
  },
  {
   "cell_type": "markdown",
   "id": "686b29e1",
   "metadata": {},
   "source": [
    "- Independent Variables:\n",
    "1.\tLoan_ID - This refer to the unique identifier of the applicant's affirmed purchases\n",
    "2.\tGender - This refers to either of the two main categories (male and female) into which applicants are divided on the basis of their reproductive functions\n",
    "3.\tMarried - This refers to applicant being in a state of matrimony\n",
    "4.\tDependents - This refres to persons who depends on the applicants for survival\n",
    "5.\tEducation - This refers to number of years in which applicant received systematic instruction, especially at a school or university\n",
    "6.\tSelf_Employed - This refers to applicant working for oneself as a freelancer or the owner of a business rather than for an employer\n",
    "7.\tApplicant Income - This refers to disposable income available for the applicant's use under State law.\n",
    "8.\tCoapplicantIncome - This refers to disposable income available for the people that participate in the loan application process alongside the main applicant use under State law.\n",
    "9.\tLoan_Amount - This refers to the amount of money an applicant owe at any given time.\n",
    "10.\tLoan_Amount_Term - This refers to the duaration in which the loan is availed to the applicant\n",
    "11.\tCredit History - This refers to a record of applicant's ability to repay debts and demonstrated responsibility in repaying them.\n",
    "12.\tProperty_Area - This refers to the total area within the boundaries of the property as set out in Schedule.\n",
    "13.\tLoan_Status - This refres to whether applicant is eligible to be availed the Loan requested.\n"
   ]
  },
  {
   "cell_type": "markdown",
   "id": "9f6ef8ab",
   "metadata": {},
   "source": [
    "### Prediction: \n",
    "- the loan of the applicant will be approved(Loan_status) or not "
   ]
  },
  {
   "cell_type": "markdown",
   "id": "26919957",
   "metadata": {},
   "source": [
    "### Dataset Link:  \n",
    "•\thttps://github.com/FlipRoboTechnologies/ML_-Datasets/blob/main/Loan%20Application%20Status/loan_prediction.csv\n"
   ]
  },
  {
   "cell_type": "markdown",
   "id": "f4055c64",
   "metadata": {},
   "source": [
    "### Read and understand dataset"
   ]
  },
  {
   "cell_type": "code",
   "execution_count": 2031,
   "id": "0e84e6f6",
   "metadata": {},
   "outputs": [],
   "source": [
    "import os\n",
    "import pandas as pd\n",
    "import numpy as np\n",
    "import matplotlib.pyplot as plt\n",
    "import seaborn as sns"
   ]
  },
  {
   "cell_type": "code",
   "execution_count": 2032,
   "id": "bc333f4c",
   "metadata": {},
   "outputs": [],
   "source": [
    "os.chdir(\"F:\\FlipRobo\\Project Evaluation\\Loan status\")"
   ]
  },
  {
   "cell_type": "code",
   "execution_count": 2033,
   "id": "dd72b944",
   "metadata": {
    "scrolled": true
   },
   "outputs": [
    {
     "data": {
      "text/html": [
       "<div>\n",
       "<style scoped>\n",
       "    .dataframe tbody tr th:only-of-type {\n",
       "        vertical-align: middle;\n",
       "    }\n",
       "\n",
       "    .dataframe tbody tr th {\n",
       "        vertical-align: top;\n",
       "    }\n",
       "\n",
       "    .dataframe thead th {\n",
       "        text-align: right;\n",
       "    }\n",
       "</style>\n",
       "<table border=\"1\" class=\"dataframe\">\n",
       "  <thead>\n",
       "    <tr style=\"text-align: right;\">\n",
       "      <th></th>\n",
       "      <th>0</th>\n",
       "      <th>1</th>\n",
       "      <th>2</th>\n",
       "      <th>3</th>\n",
       "      <th>4</th>\n",
       "      <th>5</th>\n",
       "      <th>6</th>\n",
       "      <th>7</th>\n",
       "      <th>8</th>\n",
       "      <th>9</th>\n",
       "      <th>10</th>\n",
       "      <th>11</th>\n",
       "      <th>12</th>\n",
       "    </tr>\n",
       "  </thead>\n",
       "  <tbody>\n",
       "    <tr>\n",
       "      <th>0</th>\n",
       "      <td>LP001002</td>\n",
       "      <td>Male</td>\n",
       "      <td>No</td>\n",
       "      <td>0</td>\n",
       "      <td>Graduate</td>\n",
       "      <td>No</td>\n",
       "      <td>5849</td>\n",
       "      <td>0.0</td>\n",
       "      <td>NaN</td>\n",
       "      <td>360.0</td>\n",
       "      <td>1.0</td>\n",
       "      <td>Urban</td>\n",
       "      <td>Y</td>\n",
       "    </tr>\n",
       "    <tr>\n",
       "      <th>1</th>\n",
       "      <td>LP001003</td>\n",
       "      <td>Male</td>\n",
       "      <td>Yes</td>\n",
       "      <td>1</td>\n",
       "      <td>Graduate</td>\n",
       "      <td>No</td>\n",
       "      <td>4583</td>\n",
       "      <td>1508.0</td>\n",
       "      <td>128.0</td>\n",
       "      <td>360.0</td>\n",
       "      <td>1.0</td>\n",
       "      <td>Rural</td>\n",
       "      <td>N</td>\n",
       "    </tr>\n",
       "    <tr>\n",
       "      <th>2</th>\n",
       "      <td>LP001005</td>\n",
       "      <td>Male</td>\n",
       "      <td>Yes</td>\n",
       "      <td>0</td>\n",
       "      <td>Graduate</td>\n",
       "      <td>Yes</td>\n",
       "      <td>3000</td>\n",
       "      <td>0.0</td>\n",
       "      <td>66.0</td>\n",
       "      <td>360.0</td>\n",
       "      <td>1.0</td>\n",
       "      <td>Urban</td>\n",
       "      <td>Y</td>\n",
       "    </tr>\n",
       "    <tr>\n",
       "      <th>3</th>\n",
       "      <td>LP001006</td>\n",
       "      <td>Male</td>\n",
       "      <td>Yes</td>\n",
       "      <td>0</td>\n",
       "      <td>Not Graduate</td>\n",
       "      <td>No</td>\n",
       "      <td>2583</td>\n",
       "      <td>2358.0</td>\n",
       "      <td>120.0</td>\n",
       "      <td>360.0</td>\n",
       "      <td>1.0</td>\n",
       "      <td>Urban</td>\n",
       "      <td>Y</td>\n",
       "    </tr>\n",
       "    <tr>\n",
       "      <th>4</th>\n",
       "      <td>LP001008</td>\n",
       "      <td>Male</td>\n",
       "      <td>No</td>\n",
       "      <td>0</td>\n",
       "      <td>Graduate</td>\n",
       "      <td>No</td>\n",
       "      <td>6000</td>\n",
       "      <td>0.0</td>\n",
       "      <td>141.0</td>\n",
       "      <td>360.0</td>\n",
       "      <td>1.0</td>\n",
       "      <td>Urban</td>\n",
       "      <td>Y</td>\n",
       "    </tr>\n",
       "  </tbody>\n",
       "</table>\n",
       "</div>"
      ],
      "text/plain": [
       "         0     1    2  3             4    5     6       7      8      9    10  \\\n",
       "0  LP001002  Male   No  0      Graduate   No  5849     0.0    NaN  360.0  1.0   \n",
       "1  LP001003  Male  Yes  1      Graduate   No  4583  1508.0  128.0  360.0  1.0   \n",
       "2  LP001005  Male  Yes  0      Graduate  Yes  3000     0.0   66.0  360.0  1.0   \n",
       "3  LP001006  Male  Yes  0  Not Graduate   No  2583  2358.0  120.0  360.0  1.0   \n",
       "4  LP001008  Male   No  0      Graduate   No  6000     0.0  141.0  360.0  1.0   \n",
       "\n",
       "      11 12  \n",
       "0  Urban  Y  \n",
       "1  Rural  N  \n",
       "2  Urban  Y  \n",
       "3  Urban  Y  \n",
       "4  Urban  Y  "
      ]
     },
     "execution_count": 2033,
     "metadata": {},
     "output_type": "execute_result"
    }
   ],
   "source": [
    "df=pd.read_csv(\"loan_prediction.csv\",header=None)\n",
    "df.head()"
   ]
  },
  {
   "cell_type": "markdown",
   "id": "86ecdb93",
   "metadata": {},
   "source": [
    "#### Observation:\n",
    "- There are no variable titles of the dataframe.\n",
    "\n",
    "#### Next:\n",
    "- To assign variable titles"
   ]
  },
  {
   "cell_type": "code",
   "execution_count": 2034,
   "id": "2cfc977a",
   "metadata": {},
   "outputs": [],
   "source": [
    "df.columns=['Loan_ID','Gender','Married','Dependents','Education','Self_Employed','Applicant Income','CoapplicantIncome','Loan_Amount','Loan_Amount_Term','Credit History','Property_Area','Loan_Status']"
   ]
  },
  {
   "cell_type": "code",
   "execution_count": 2035,
   "id": "54f9b4ae",
   "metadata": {},
   "outputs": [
    {
     "data": {
      "text/html": [
       "<div>\n",
       "<style scoped>\n",
       "    .dataframe tbody tr th:only-of-type {\n",
       "        vertical-align: middle;\n",
       "    }\n",
       "\n",
       "    .dataframe tbody tr th {\n",
       "        vertical-align: top;\n",
       "    }\n",
       "\n",
       "    .dataframe thead th {\n",
       "        text-align: right;\n",
       "    }\n",
       "</style>\n",
       "<table border=\"1\" class=\"dataframe\">\n",
       "  <thead>\n",
       "    <tr style=\"text-align: right;\">\n",
       "      <th></th>\n",
       "      <th>Loan_ID</th>\n",
       "      <th>Gender</th>\n",
       "      <th>Married</th>\n",
       "      <th>Dependents</th>\n",
       "      <th>Education</th>\n",
       "      <th>Self_Employed</th>\n",
       "      <th>Applicant Income</th>\n",
       "      <th>CoapplicantIncome</th>\n",
       "      <th>Loan_Amount</th>\n",
       "      <th>Loan_Amount_Term</th>\n",
       "      <th>Credit History</th>\n",
       "      <th>Property_Area</th>\n",
       "      <th>Loan_Status</th>\n",
       "    </tr>\n",
       "  </thead>\n",
       "  <tbody>\n",
       "    <tr>\n",
       "      <th>0</th>\n",
       "      <td>LP001002</td>\n",
       "      <td>Male</td>\n",
       "      <td>No</td>\n",
       "      <td>0</td>\n",
       "      <td>Graduate</td>\n",
       "      <td>No</td>\n",
       "      <td>5849</td>\n",
       "      <td>0.0</td>\n",
       "      <td>NaN</td>\n",
       "      <td>360.0</td>\n",
       "      <td>1.0</td>\n",
       "      <td>Urban</td>\n",
       "      <td>Y</td>\n",
       "    </tr>\n",
       "    <tr>\n",
       "      <th>1</th>\n",
       "      <td>LP001003</td>\n",
       "      <td>Male</td>\n",
       "      <td>Yes</td>\n",
       "      <td>1</td>\n",
       "      <td>Graduate</td>\n",
       "      <td>No</td>\n",
       "      <td>4583</td>\n",
       "      <td>1508.0</td>\n",
       "      <td>128.0</td>\n",
       "      <td>360.0</td>\n",
       "      <td>1.0</td>\n",
       "      <td>Rural</td>\n",
       "      <td>N</td>\n",
       "    </tr>\n",
       "    <tr>\n",
       "      <th>2</th>\n",
       "      <td>LP001005</td>\n",
       "      <td>Male</td>\n",
       "      <td>Yes</td>\n",
       "      <td>0</td>\n",
       "      <td>Graduate</td>\n",
       "      <td>Yes</td>\n",
       "      <td>3000</td>\n",
       "      <td>0.0</td>\n",
       "      <td>66.0</td>\n",
       "      <td>360.0</td>\n",
       "      <td>1.0</td>\n",
       "      <td>Urban</td>\n",
       "      <td>Y</td>\n",
       "    </tr>\n",
       "    <tr>\n",
       "      <th>3</th>\n",
       "      <td>LP001006</td>\n",
       "      <td>Male</td>\n",
       "      <td>Yes</td>\n",
       "      <td>0</td>\n",
       "      <td>Not Graduate</td>\n",
       "      <td>No</td>\n",
       "      <td>2583</td>\n",
       "      <td>2358.0</td>\n",
       "      <td>120.0</td>\n",
       "      <td>360.0</td>\n",
       "      <td>1.0</td>\n",
       "      <td>Urban</td>\n",
       "      <td>Y</td>\n",
       "    </tr>\n",
       "    <tr>\n",
       "      <th>4</th>\n",
       "      <td>LP001008</td>\n",
       "      <td>Male</td>\n",
       "      <td>No</td>\n",
       "      <td>0</td>\n",
       "      <td>Graduate</td>\n",
       "      <td>No</td>\n",
       "      <td>6000</td>\n",
       "      <td>0.0</td>\n",
       "      <td>141.0</td>\n",
       "      <td>360.0</td>\n",
       "      <td>1.0</td>\n",
       "      <td>Urban</td>\n",
       "      <td>Y</td>\n",
       "    </tr>\n",
       "  </tbody>\n",
       "</table>\n",
       "</div>"
      ],
      "text/plain": [
       "    Loan_ID Gender Married Dependents     Education Self_Employed  \\\n",
       "0  LP001002   Male      No          0      Graduate            No   \n",
       "1  LP001003   Male     Yes          1      Graduate            No   \n",
       "2  LP001005   Male     Yes          0      Graduate           Yes   \n",
       "3  LP001006   Male     Yes          0  Not Graduate            No   \n",
       "4  LP001008   Male      No          0      Graduate            No   \n",
       "\n",
       "   Applicant Income  CoapplicantIncome  Loan_Amount  Loan_Amount_Term  \\\n",
       "0              5849                0.0          NaN             360.0   \n",
       "1              4583             1508.0        128.0             360.0   \n",
       "2              3000                0.0         66.0             360.0   \n",
       "3              2583             2358.0        120.0             360.0   \n",
       "4              6000                0.0        141.0             360.0   \n",
       "\n",
       "   Credit History Property_Area Loan_Status  \n",
       "0             1.0         Urban           Y  \n",
       "1             1.0         Rural           N  \n",
       "2             1.0         Urban           Y  \n",
       "3             1.0         Urban           Y  \n",
       "4             1.0         Urban           Y  "
      ]
     },
     "execution_count": 2035,
     "metadata": {},
     "output_type": "execute_result"
    }
   ],
   "source": [
    "df.head()"
   ]
  },
  {
   "cell_type": "markdown",
   "id": "66cb3e4f",
   "metadata": {},
   "source": [
    "#### Observation:\n",
    "- All the variables have been assigned appropriate titles.\n",
    "\n",
    "#### Next: \n",
    "- To check number of rows and columns of the data frame"
   ]
  },
  {
   "cell_type": "code",
   "execution_count": 2036,
   "id": "aab5277a",
   "metadata": {
    "scrolled": true
   },
   "outputs": [
    {
     "data": {
      "text/plain": [
       "(614, 13)"
      ]
     },
     "execution_count": 2036,
     "metadata": {},
     "output_type": "execute_result"
    }
   ],
   "source": [
    "df.shape"
   ]
  },
  {
   "cell_type": "markdown",
   "id": "94a2d2d9",
   "metadata": {},
   "source": [
    "#### Observation:\n",
    "- Rows: 614\n",
    "- Columns: 13\n",
    "\n",
    "#### Next: \n",
    "- To perform exploratory data analysis"
   ]
  },
  {
   "cell_type": "markdown",
   "id": "a820e378",
   "metadata": {},
   "source": [
    "### Exploratory data analysis"
   ]
  },
  {
   "cell_type": "markdown",
   "id": "cceaaacb",
   "metadata": {},
   "source": [
    "### (i) To explore data type of all the  variables"
   ]
  },
  {
   "cell_type": "code",
   "execution_count": 2037,
   "id": "fb1c2610",
   "metadata": {},
   "outputs": [
    {
     "data": {
      "text/plain": [
       "Loan_ID               object\n",
       "Gender                object\n",
       "Married               object\n",
       "Dependents            object\n",
       "Education             object\n",
       "Self_Employed         object\n",
       "Applicant Income       int64\n",
       "CoapplicantIncome    float64\n",
       "Loan_Amount          float64\n",
       "Loan_Amount_Term     float64\n",
       "Credit History       float64\n",
       "Property_Area         object\n",
       "Loan_Status           object\n",
       "dtype: object"
      ]
     },
     "execution_count": 2037,
     "metadata": {},
     "output_type": "execute_result"
    }
   ],
   "source": [
    "df.dtypes"
   ]
  },
  {
   "cell_type": "markdown",
   "id": "f451a50b",
   "metadata": {},
   "source": [
    "#### Observation:\n",
    "- Categorical data type: \"Loan_ID\", \"Gender\", \"Married\", \"Dependents\", \"Education\", \"Self_Employed\", \"Property_Area\",\"Loan_Status\"\n",
    "\n",
    "- Numerical data type: \"Applicant Income\", \"CoapplicantIncome\", \"Loan_Amount\",\"Loan_Amount_Term\", \"Credit History\"\n",
    "\n",
    "- All the variables have appropriate data type except \"Dependents\".\n",
    "\n",
    "- \"Dependents\" should be an integer data type instead of object\n",
    "\n",
    "#### Next:\n",
    "- To explore missing values in the dataframe."
   ]
  },
  {
   "cell_type": "markdown",
   "id": "516bd9b7",
   "metadata": {},
   "source": [
    "### (ii) To explore missing values"
   ]
  },
  {
   "cell_type": "code",
   "execution_count": 2038,
   "id": "b8b46e51",
   "metadata": {},
   "outputs": [
    {
     "data": {
      "text/plain": [
       "Loan_ID               0\n",
       "Gender               13\n",
       "Married               3\n",
       "Dependents           15\n",
       "Education             0\n",
       "Self_Employed        32\n",
       "Applicant Income      0\n",
       "CoapplicantIncome     0\n",
       "Loan_Amount          22\n",
       "Loan_Amount_Term     14\n",
       "Credit History       50\n",
       "Property_Area         0\n",
       "Loan_Status           0\n",
       "dtype: int64"
      ]
     },
     "execution_count": 2038,
     "metadata": {},
     "output_type": "execute_result"
    }
   ],
   "source": [
    "df.isnull().sum()"
   ]
  },
  {
   "cell_type": "markdown",
   "id": "f51b8b0f",
   "metadata": {},
   "source": [
    "#### Observation: \n",
    "- Missing values found: Gender, Married, Dependents, Self_Employed, Loan_Amount, Loan_Amount_Term, Credit History\n",
    "\n",
    "#### Next:\n",
    "- Assigning Loan_ID,  which signifies identity and has no physical effect on the loan status, as the index of the DataFrame."
   ]
  },
  {
   "cell_type": "code",
   "execution_count": 2039,
   "id": "8ec7526a",
   "metadata": {},
   "outputs": [],
   "source": [
    "df.set_index('Loan_ID', inplace=True)"
   ]
  },
  {
   "cell_type": "code",
   "execution_count": 2040,
   "id": "5a111b22",
   "metadata": {},
   "outputs": [
    {
     "data": {
      "text/html": [
       "<div>\n",
       "<style scoped>\n",
       "    .dataframe tbody tr th:only-of-type {\n",
       "        vertical-align: middle;\n",
       "    }\n",
       "\n",
       "    .dataframe tbody tr th {\n",
       "        vertical-align: top;\n",
       "    }\n",
       "\n",
       "    .dataframe thead th {\n",
       "        text-align: right;\n",
       "    }\n",
       "</style>\n",
       "<table border=\"1\" class=\"dataframe\">\n",
       "  <thead>\n",
       "    <tr style=\"text-align: right;\">\n",
       "      <th></th>\n",
       "      <th>Gender</th>\n",
       "      <th>Married</th>\n",
       "      <th>Dependents</th>\n",
       "      <th>Education</th>\n",
       "      <th>Self_Employed</th>\n",
       "      <th>Applicant Income</th>\n",
       "      <th>CoapplicantIncome</th>\n",
       "      <th>Loan_Amount</th>\n",
       "      <th>Loan_Amount_Term</th>\n",
       "      <th>Credit History</th>\n",
       "      <th>Property_Area</th>\n",
       "      <th>Loan_Status</th>\n",
       "    </tr>\n",
       "    <tr>\n",
       "      <th>Loan_ID</th>\n",
       "      <th></th>\n",
       "      <th></th>\n",
       "      <th></th>\n",
       "      <th></th>\n",
       "      <th></th>\n",
       "      <th></th>\n",
       "      <th></th>\n",
       "      <th></th>\n",
       "      <th></th>\n",
       "      <th></th>\n",
       "      <th></th>\n",
       "      <th></th>\n",
       "    </tr>\n",
       "  </thead>\n",
       "  <tbody>\n",
       "    <tr>\n",
       "      <th>LP001002</th>\n",
       "      <td>Male</td>\n",
       "      <td>No</td>\n",
       "      <td>0</td>\n",
       "      <td>Graduate</td>\n",
       "      <td>No</td>\n",
       "      <td>5849</td>\n",
       "      <td>0.0</td>\n",
       "      <td>NaN</td>\n",
       "      <td>360.0</td>\n",
       "      <td>1.0</td>\n",
       "      <td>Urban</td>\n",
       "      <td>Y</td>\n",
       "    </tr>\n",
       "    <tr>\n",
       "      <th>LP001003</th>\n",
       "      <td>Male</td>\n",
       "      <td>Yes</td>\n",
       "      <td>1</td>\n",
       "      <td>Graduate</td>\n",
       "      <td>No</td>\n",
       "      <td>4583</td>\n",
       "      <td>1508.0</td>\n",
       "      <td>128.0</td>\n",
       "      <td>360.0</td>\n",
       "      <td>1.0</td>\n",
       "      <td>Rural</td>\n",
       "      <td>N</td>\n",
       "    </tr>\n",
       "    <tr>\n",
       "      <th>LP001005</th>\n",
       "      <td>Male</td>\n",
       "      <td>Yes</td>\n",
       "      <td>0</td>\n",
       "      <td>Graduate</td>\n",
       "      <td>Yes</td>\n",
       "      <td>3000</td>\n",
       "      <td>0.0</td>\n",
       "      <td>66.0</td>\n",
       "      <td>360.0</td>\n",
       "      <td>1.0</td>\n",
       "      <td>Urban</td>\n",
       "      <td>Y</td>\n",
       "    </tr>\n",
       "    <tr>\n",
       "      <th>LP001006</th>\n",
       "      <td>Male</td>\n",
       "      <td>Yes</td>\n",
       "      <td>0</td>\n",
       "      <td>Not Graduate</td>\n",
       "      <td>No</td>\n",
       "      <td>2583</td>\n",
       "      <td>2358.0</td>\n",
       "      <td>120.0</td>\n",
       "      <td>360.0</td>\n",
       "      <td>1.0</td>\n",
       "      <td>Urban</td>\n",
       "      <td>Y</td>\n",
       "    </tr>\n",
       "    <tr>\n",
       "      <th>LP001008</th>\n",
       "      <td>Male</td>\n",
       "      <td>No</td>\n",
       "      <td>0</td>\n",
       "      <td>Graduate</td>\n",
       "      <td>No</td>\n",
       "      <td>6000</td>\n",
       "      <td>0.0</td>\n",
       "      <td>141.0</td>\n",
       "      <td>360.0</td>\n",
       "      <td>1.0</td>\n",
       "      <td>Urban</td>\n",
       "      <td>Y</td>\n",
       "    </tr>\n",
       "  </tbody>\n",
       "</table>\n",
       "</div>"
      ],
      "text/plain": [
       "         Gender Married Dependents     Education Self_Employed  \\\n",
       "Loan_ID                                                          \n",
       "LP001002   Male      No          0      Graduate            No   \n",
       "LP001003   Male     Yes          1      Graduate            No   \n",
       "LP001005   Male     Yes          0      Graduate           Yes   \n",
       "LP001006   Male     Yes          0  Not Graduate            No   \n",
       "LP001008   Male      No          0      Graduate            No   \n",
       "\n",
       "          Applicant Income  CoapplicantIncome  Loan_Amount  Loan_Amount_Term  \\\n",
       "Loan_ID                                                                        \n",
       "LP001002              5849                0.0          NaN             360.0   \n",
       "LP001003              4583             1508.0        128.0             360.0   \n",
       "LP001005              3000                0.0         66.0             360.0   \n",
       "LP001006              2583             2358.0        120.0             360.0   \n",
       "LP001008              6000                0.0        141.0             360.0   \n",
       "\n",
       "          Credit History Property_Area Loan_Status  \n",
       "Loan_ID                                             \n",
       "LP001002             1.0         Urban           Y  \n",
       "LP001003             1.0         Rural           N  \n",
       "LP001005             1.0         Urban           Y  \n",
       "LP001006             1.0         Urban           Y  \n",
       "LP001008             1.0         Urban           Y  "
      ]
     },
     "execution_count": 2040,
     "metadata": {},
     "output_type": "execute_result"
    }
   ],
   "source": [
    "df.head()"
   ]
  },
  {
   "cell_type": "markdown",
   "id": "2ca949ab",
   "metadata": {},
   "source": [
    "#### Observation:\n",
    "- \"Loan_ID\" has been assigned as the index of the dataframe.\n",
    "\n",
    "#### Next:\n",
    "- To convert the data type of \"Dependent\" as numerical variable of type integer."
   ]
  },
  {
   "cell_type": "code",
   "execution_count": 2041,
   "id": "79642f8c",
   "metadata": {},
   "outputs": [
    {
     "data": {
      "text/html": [
       "<div>\n",
       "<style scoped>\n",
       "    .dataframe tbody tr th:only-of-type {\n",
       "        vertical-align: middle;\n",
       "    }\n",
       "\n",
       "    .dataframe tbody tr th {\n",
       "        vertical-align: top;\n",
       "    }\n",
       "\n",
       "    .dataframe thead th {\n",
       "        text-align: right;\n",
       "    }\n",
       "</style>\n",
       "<table border=\"1\" class=\"dataframe\">\n",
       "  <thead>\n",
       "    <tr style=\"text-align: right;\">\n",
       "      <th></th>\n",
       "      <th>Gender</th>\n",
       "      <th>Married</th>\n",
       "      <th>Dependents</th>\n",
       "      <th>Education</th>\n",
       "      <th>Self_Employed</th>\n",
       "      <th>Applicant Income</th>\n",
       "      <th>CoapplicantIncome</th>\n",
       "      <th>Loan_Amount</th>\n",
       "      <th>Loan_Amount_Term</th>\n",
       "      <th>Credit History</th>\n",
       "      <th>Property_Area</th>\n",
       "      <th>Loan_Status</th>\n",
       "    </tr>\n",
       "    <tr>\n",
       "      <th>Loan_ID</th>\n",
       "      <th></th>\n",
       "      <th></th>\n",
       "      <th></th>\n",
       "      <th></th>\n",
       "      <th></th>\n",
       "      <th></th>\n",
       "      <th></th>\n",
       "      <th></th>\n",
       "      <th></th>\n",
       "      <th></th>\n",
       "      <th></th>\n",
       "      <th></th>\n",
       "    </tr>\n",
       "  </thead>\n",
       "  <tbody>\n",
       "    <tr>\n",
       "      <th>LP001002</th>\n",
       "      <td>Male</td>\n",
       "      <td>No</td>\n",
       "      <td>0</td>\n",
       "      <td>Graduate</td>\n",
       "      <td>No</td>\n",
       "      <td>5849</td>\n",
       "      <td>0.0</td>\n",
       "      <td>NaN</td>\n",
       "      <td>360.0</td>\n",
       "      <td>1.0</td>\n",
       "      <td>Urban</td>\n",
       "      <td>Y</td>\n",
       "    </tr>\n",
       "    <tr>\n",
       "      <th>LP001003</th>\n",
       "      <td>Male</td>\n",
       "      <td>Yes</td>\n",
       "      <td>1</td>\n",
       "      <td>Graduate</td>\n",
       "      <td>No</td>\n",
       "      <td>4583</td>\n",
       "      <td>1508.0</td>\n",
       "      <td>128.0</td>\n",
       "      <td>360.0</td>\n",
       "      <td>1.0</td>\n",
       "      <td>Rural</td>\n",
       "      <td>N</td>\n",
       "    </tr>\n",
       "    <tr>\n",
       "      <th>LP001005</th>\n",
       "      <td>Male</td>\n",
       "      <td>Yes</td>\n",
       "      <td>0</td>\n",
       "      <td>Graduate</td>\n",
       "      <td>Yes</td>\n",
       "      <td>3000</td>\n",
       "      <td>0.0</td>\n",
       "      <td>66.0</td>\n",
       "      <td>360.0</td>\n",
       "      <td>1.0</td>\n",
       "      <td>Urban</td>\n",
       "      <td>Y</td>\n",
       "    </tr>\n",
       "    <tr>\n",
       "      <th>LP001006</th>\n",
       "      <td>Male</td>\n",
       "      <td>Yes</td>\n",
       "      <td>0</td>\n",
       "      <td>Not Graduate</td>\n",
       "      <td>No</td>\n",
       "      <td>2583</td>\n",
       "      <td>2358.0</td>\n",
       "      <td>120.0</td>\n",
       "      <td>360.0</td>\n",
       "      <td>1.0</td>\n",
       "      <td>Urban</td>\n",
       "      <td>Y</td>\n",
       "    </tr>\n",
       "    <tr>\n",
       "      <th>LP001008</th>\n",
       "      <td>Male</td>\n",
       "      <td>No</td>\n",
       "      <td>0</td>\n",
       "      <td>Graduate</td>\n",
       "      <td>No</td>\n",
       "      <td>6000</td>\n",
       "      <td>0.0</td>\n",
       "      <td>141.0</td>\n",
       "      <td>360.0</td>\n",
       "      <td>1.0</td>\n",
       "      <td>Urban</td>\n",
       "      <td>Y</td>\n",
       "    </tr>\n",
       "  </tbody>\n",
       "</table>\n",
       "</div>"
      ],
      "text/plain": [
       "         Gender Married  Dependents     Education Self_Employed  \\\n",
       "Loan_ID                                                           \n",
       "LP001002   Male      No           0      Graduate            No   \n",
       "LP001003   Male     Yes           1      Graduate            No   \n",
       "LP001005   Male     Yes           0      Graduate           Yes   \n",
       "LP001006   Male     Yes           0  Not Graduate            No   \n",
       "LP001008   Male      No           0      Graduate            No   \n",
       "\n",
       "          Applicant Income  CoapplicantIncome  Loan_Amount  Loan_Amount_Term  \\\n",
       "Loan_ID                                                                        \n",
       "LP001002              5849                0.0          NaN             360.0   \n",
       "LP001003              4583             1508.0        128.0             360.0   \n",
       "LP001005              3000                0.0         66.0             360.0   \n",
       "LP001006              2583             2358.0        120.0             360.0   \n",
       "LP001008              6000                0.0        141.0             360.0   \n",
       "\n",
       "          Credit History Property_Area Loan_Status  \n",
       "Loan_ID                                             \n",
       "LP001002             1.0         Urban           Y  \n",
       "LP001003             1.0         Rural           N  \n",
       "LP001005             1.0         Urban           Y  \n",
       "LP001006             1.0         Urban           Y  \n",
       "LP001008             1.0         Urban           Y  "
      ]
     },
     "execution_count": 2041,
     "metadata": {},
     "output_type": "execute_result"
    }
   ],
   "source": [
    "# Convert 'Dependents' column to numeric type, coercing non-convertible values to NaN\n",
    "df['Dependents'] = pd.to_numeric(df['Dependents'], errors='coerce')\n",
    "\n",
    "df['Dependents'] = df['Dependents'].fillna(df['Dependents'].mode()[0])\n",
    "\n",
    "# Convert 'Dependents' column to integer type\n",
    "df['Dependents'] = df['Dependents'].astype(int)\n",
    "\n",
    "df.head()"
   ]
  },
  {
   "cell_type": "code",
   "execution_count": 2042,
   "id": "515fff74",
   "metadata": {},
   "outputs": [
    {
     "data": {
      "text/plain": [
       "Gender                object\n",
       "Married               object\n",
       "Dependents             int32\n",
       "Education             object\n",
       "Self_Employed         object\n",
       "Applicant Income       int64\n",
       "CoapplicantIncome    float64\n",
       "Loan_Amount          float64\n",
       "Loan_Amount_Term     float64\n",
       "Credit History       float64\n",
       "Property_Area         object\n",
       "Loan_Status           object\n",
       "dtype: object"
      ]
     },
     "execution_count": 2042,
     "metadata": {},
     "output_type": "execute_result"
    }
   ],
   "source": [
    "df.dtypes"
   ]
  },
  {
   "cell_type": "markdown",
   "id": "f8886bca",
   "metadata": {},
   "source": [
    "#### Observation:\n",
    "- All the variables are now of appropriate data type.\n",
    "\n",
    "#### Next:\n",
    "- Imputing the missing values of categorical and discrete data types by their mode and continuous numerical data type by their means."
   ]
  },
  {
   "cell_type": "code",
   "execution_count": 2043,
   "id": "1f9dfb3b",
   "metadata": {},
   "outputs": [
    {
     "data": {
      "text/plain": [
       "Gender               0\n",
       "Married              0\n",
       "Dependents           0\n",
       "Education            0\n",
       "Self_Employed        0\n",
       "Applicant Income     0\n",
       "CoapplicantIncome    0\n",
       "Loan_Amount          0\n",
       "Loan_Amount_Term     0\n",
       "Credit History       0\n",
       "Property_Area        0\n",
       "Loan_Status          0\n",
       "dtype: int64"
      ]
     },
     "execution_count": 2043,
     "metadata": {},
     "output_type": "execute_result"
    }
   ],
   "source": [
    "discrete_missing=[\"Gender\", \"Married\", \"Dependents\",\"Self_Employed\"]\n",
    "continuous_missing=[\"Loan_Amount\",\"Loan_Amount_Term\",\"Credit History\"]\n",
    "for i in discrete_missing:\n",
    "    df[i] = df[i].fillna(df[i].mode()[0])\n",
    "for j in continuous_missing:\n",
    "    df[j] = df[j].fillna(df[j].mean())\n",
    "df.isnull().sum()\n"
   ]
  },
  {
   "cell_type": "markdown",
   "id": "058ee92b",
   "metadata": {},
   "source": [
    "#### Observation:\n",
    "- None of the variables have any missing value.\n",
    "\n",
    "#### Next:\n",
    "- Visualization and distribution of the variables"
   ]
  },
  {
   "cell_type": "markdown",
   "id": "5e983cc0",
   "metadata": {},
   "source": [
    "### (iii) To explore distribution of all the  variables"
   ]
  },
  {
   "cell_type": "code",
   "execution_count": 2044,
   "id": "13385fcc",
   "metadata": {},
   "outputs": [
    {
     "data": {
      "image/png": "[encoded data removed]",
      "text/plain": [
       "<Figure size 1000x1000 with 6 Axes>"
      ]
     },
     "metadata": {},
     "output_type": "display_data"
    }
   ],
   "source": [
    "# Histogram for continous numerical variables.\n",
    "df[[\"Applicant Income\", \"CoapplicantIncome\", \"Loan_Amount\",\"Loan_Amount_Term\", \"Credit History\"]].hist(figsize=(10,10))\n",
    "plt.show()"
   ]
  },
  {
   "cell_type": "markdown",
   "id": "9544196f",
   "metadata": {},
   "source": [
    "#### Observation:\n",
    "- Some variables are skewed.\n",
    "\n",
    "#### Next\n",
    "- To find the skewness of the variables"
   ]
  },
  {
   "cell_type": "code",
   "execution_count": 2045,
   "id": "ea6a7d4a",
   "metadata": {},
   "outputs": [
    {
     "data": {
      "text/plain": [
       "Applicant Income     6.54\n",
       "CoapplicantIncome    7.49\n",
       "Loan_Amount          2.73\n",
       "Loan_Amount_Term    -2.39\n",
       "Credit History      -1.96\n",
       "dtype: float64"
      ]
     },
     "execution_count": 2045,
     "metadata": {},
     "output_type": "execute_result"
    }
   ],
   "source": [
    "round(df[[\"Applicant Income\", \"CoapplicantIncome\", \"Loan_Amount\",\"Loan_Amount_Term\", \"Credit History\"]].skew(),2)"
   ]
  },
  {
   "cell_type": "markdown",
   "id": "cca910f3",
   "metadata": {},
   "source": [
    "#### Observation:\n",
    "- \"Applicant Income\", \"CoapplicantIncome\", \"Loan_Amount\", \"Loan_Amount_Term\", \"Credit History\"  are highly skewed variables.\n",
    "\n",
    "#### Next:\n",
    "- To check outliers of the variables using boxplot."
   ]
  },
  {
   "cell_type": "code",
   "execution_count": 2046,
   "id": "661d517a",
   "metadata": {},
   "outputs": [
    {
     "data": {
      "image/png": "[encoded data removed]",
      "text/plain": [
       "<Figure size 1200x2000 with 1 Axes>"
      ]
     },
     "metadata": {},
     "output_type": "display_data"
    }
   ],
   "source": [
    "plt.figure(figsize=(12,20))\n",
    "# for i in Numerical:\n",
    "sns.boxplot(data=df[[\"Applicant Income\", \"CoapplicantIncome\", \"Loan_Amount\",\"Loan_Amount_Term\", \"Credit History\"]])\n",
    "plt.xticks(rotation=0)\n",
    "plt.show()"
   ]
  },
  {
   "cell_type": "markdown",
   "id": "50fb6029",
   "metadata": {},
   "source": [
    "#### Observation:\n",
    "- There are significant outliers in \"Applicant Income\", \"CoapplicantIncome\".\n",
    "\n",
    "#### Next:\n",
    "- To check distribution of categorical and discrete numerical variables"
   ]
  },
  {
   "cell_type": "code",
   "execution_count": 2047,
   "id": "2f77eee4",
   "metadata": {},
   "outputs": [
    {
     "data": {
      "image/png": "[encoded data removed]",
      "text/plain": [
       "<Figure size 600x400 with 1 Axes>"
      ]
     },
     "metadata": {},
     "output_type": "display_data"
    },
    {
     "data": {
      "image/png": "[encoded data removed]",
      "text/plain": [
       "<Figure size 600x400 with 1 Axes>"
      ]
     },
     "metadata": {},
     "output_type": "display_data"
    },
    {
     "data": {
      "image/png": "[encoded data removed]",
      "text/plain": [
       "<Figure size 600x400 with 1 Axes>"
      ]
     },
     "metadata": {},
     "output_type": "display_data"
    },
    {
     "data": {
      "image/png": "[encoded data removed]",
      "text/plain": [
       "<Figure size 600x400 with 1 Axes>"
      ]
     },
     "metadata": {},
     "output_type": "display_data"
    },
    {
     "data": {
      "image/png": "[encoded data removed]",
      "text/plain": [
       "<Figure size 600x400 with 1 Axes>"
      ]
     },
     "metadata": {},
     "output_type": "display_data"
    },
    {
     "data": {
      "image/png": "[encoded data removed]",
      "text/plain": [
       "<Figure size 600x400 with 1 Axes>"
      ]
     },
     "metadata": {},
     "output_type": "display_data"
    },
    {
     "data": {
      "image/png": "[encoded data removed]",
      "text/plain": [
       "<Figure size 600x400 with 1 Axes>"
      ]
     },
     "metadata": {},
     "output_type": "display_data"
    }
   ],
   "source": [
    "# Count plot for categorical and discrete numerical variables\n",
    "for i in df[[\"Gender\", \"Married\", \"Dependents\", \"Education\", \"Self_Employed\", \"Property_Area\",\"Loan_Status\"]]:\n",
    "    plt.figure(figsize=(6, 4))\n",
    "    sns.countplot(x=i, data=df)\n",
    "    plt.xticks(rotation=0)\n",
    "    plt.show()"
   ]
  },
  {
   "cell_type": "markdown",
   "id": "d074db9f",
   "metadata": {},
   "source": [
    "#### Observation:\n",
    "- There is a significant class imbalance.\n",
    "- There is significantly large number of loan applications with \"Y\" compared to \"N\".\n",
    "\n",
    "#### Next:\n",
    "- To check for multicollinearity"
   ]
  },
  {
   "cell_type": "markdown",
   "id": "231cc3c6",
   "metadata": {},
   "source": [
    "### (iv) Correlation Analysis:\n",
    "   - To compute and visualize pairwise correlations between numerical variables using heatmap.\n",
    "   - To identify highly correlated variables (correlation coefficient > 0.7 or < -0.7)."
   ]
  },
  {
   "cell_type": "code",
   "execution_count": 2048,
   "id": "2b526c8f",
   "metadata": {
    "scrolled": true
   },
   "outputs": [
    {
     "data": {
      "image/png": "[encoded data removed]",
      "text/plain": [
       "<Figure size 1600x1200 with 2 Axes>"
      ]
     },
     "metadata": {},
     "output_type": "display_data"
    }
   ],
   "source": [
    "# Heatmap for correlation coefficient\n",
    "plt.figure(figsize=(16,12))\n",
    "sns.heatmap(round(abs(df[[\"Applicant Income\", \"CoapplicantIncome\", \"Loan_Amount\",\"Loan_Amount_Term\", \"Credit History\"]].corr()),2),annot=True)\n",
    "plt.show()"
   ]
  },
  {
   "cell_type": "markdown",
   "id": "5584fdc4",
   "metadata": {},
   "source": [
    "#### Observation: \n",
    "- There are no variables for which absolute value of correlation coefficient is more than 0.7. So we can say that there are no variables with significant correlation.\n",
    "\n",
    "\n",
    "#### Next:\n",
    "- To detect discrete and continuous numerical variables.\n"
   ]
  },
  {
   "cell_type": "code",
   "execution_count": 2049,
   "id": "b875e230",
   "metadata": {},
   "outputs": [
    {
     "data": {
      "text/plain": [
       "Applicant Income     505\n",
       "CoapplicantIncome    287\n",
       "Loan_Amount          204\n",
       "Loan_Amount_Term      11\n",
       "Credit History         3\n",
       "dtype: int64"
      ]
     },
     "execution_count": 2049,
     "metadata": {},
     "output_type": "execute_result"
    }
   ],
   "source": [
    "df[[\"Applicant Income\", \"CoapplicantIncome\", \"Loan_Amount\",\"Loan_Amount_Term\", \"Credit History\"]].nunique()"
   ]
  },
  {
   "cell_type": "markdown",
   "id": "fca1c6b0",
   "metadata": {},
   "source": [
    "#### Observation:\n",
    "- Here, \"Loan_Amount_Term\",and \"Credit History\" are discrete variables.\n",
    "\n",
    "#### Next:\n",
    "- To calculate skewness in the continuous variables \"Applicant Income\", \"CoapplicantIncome\", \"Loan_Amount\"."
   ]
  },
  {
   "cell_type": "code",
   "execution_count": 2050,
   "id": "45d2990b",
   "metadata": {},
   "outputs": [
    {
     "name": "stdout",
     "output_type": "stream",
     "text": [
      "Applicant Income: 6.54\n",
      "CoapplicantIncome: 7.49\n",
      "Loan_Amount: 2.73\n"
     ]
    }
   ],
   "source": [
    "for i in [\"Applicant Income\", \"CoapplicantIncome\", \"Loan_Amount\"]:\n",
    "#     df[i]=np.log(df[i]+10**(-10))\n",
    "    print(f'{i}:',round(df[i].skew(),2))"
   ]
  },
  {
   "cell_type": "markdown",
   "id": "632f1941",
   "metadata": {},
   "source": [
    "#### Observation:\n",
    "- There is considerable skewness in \"Applicant Income\", and \"CoapplicantIncome\".\n",
    "\n",
    "#### Next:\n",
    "- To detect outliers in \"Applicant Income\", and \"CoapplicantIncome\""
   ]
  },
  {
   "cell_type": "markdown",
   "id": "3938c031",
   "metadata": {},
   "source": [
    "### (v) Feature engineering"
   ]
  },
  {
   "cell_type": "markdown",
   "id": "2f7a5442",
   "metadata": {},
   "source": [
    "#### Detecting outliers using z-score\n",
    "- z = (X-μ)/σ;  where, X = data point, μ = mean of the data, σ = standard deviation"
   ]
  },
  {
   "cell_type": "markdown",
   "id": "7ab5fed4",
   "metadata": {},
   "source": [
    "- Listing outliers having z score > 3 in variables \"Applicant Income\" and \"CoapplicantIncome\"."
   ]
  },
  {
   "cell_type": "code",
   "execution_count": 2051,
   "id": "2af3b6d3",
   "metadata": {},
   "outputs": [
    {
     "name": "stdout",
     "output_type": "stream",
     "text": [
      "[23803, 39999, 51763, 33846, 39147, 63337, 81000, 37719]\n"
     ]
    }
   ],
   "source": [
    "outlier=[]\n",
    "mean=df[\"Applicant Income\"].mean()\n",
    "std=df[\"Applicant Income\"].std()\n",
    "threshold=3\n",
    "for j in df[\"Applicant Income\"].values:\n",
    "    if np.abs((j-mean)/std)>threshold:\n",
    "        outlier.append(j)\n",
    "print(outlier)\n",
    "        \n",
    "        "
   ]
  },
  {
   "cell_type": "code",
   "execution_count": 2052,
   "id": "e592a040",
   "metadata": {},
   "outputs": [
    {
     "name": "stdout",
     "output_type": "stream",
     "text": [
      "[10968.0, 11300.0, 20000.0, 20000.0, 33837.0, 41667.0]\n"
     ]
    }
   ],
   "source": [
    "outlier1=[]\n",
    "mean1=df[\"CoapplicantIncome\"].mean()\n",
    "std1=df[\"CoapplicantIncome\"].std()\n",
    "threshold1=3\n",
    "for k in df[\"CoapplicantIncome\"].values:\n",
    "    if np.abs((k-mean1)/std1)>threshold1:\n",
    "        outlier1.append(k)\n",
    "print(outlier1)"
   ]
  },
  {
   "cell_type": "markdown",
   "id": "00b90fef",
   "metadata": {},
   "source": [
    "- Dropping the rows having outliers in \"Applicant Income\" and \"CoapplicantIncome\".  "
   ]
  },
  {
   "cell_type": "code",
   "execution_count": 2053,
   "id": "fc254026",
   "metadata": {},
   "outputs": [],
   "source": [
    "# Assuming outliers is a list of outlier values\n",
    "df1 = df[~df[\"Applicant Income\"].isin(outlier)]\n",
    "df2 = df1[~df1[\"CoapplicantIncome\"].isin(outlier1)]"
   ]
  },
  {
   "cell_type": "code",
   "execution_count": 2054,
   "id": "cca8e4c2",
   "metadata": {},
   "outputs": [
    {
     "name": "stdout",
     "output_type": "stream",
     "text": [
      "Dependents: 1.13\n",
      "Applicant Income: 2.3\n",
      "CoapplicantIncome: 1.38\n",
      "Loan_Amount: 2.58\n",
      "Loan_Amount_Term: -2.43\n",
      "Credit History: -1.98\n"
     ]
    }
   ],
   "source": [
    "for i in df2.select_dtypes(include=['float', 'int']).columns:\n",
    "    print(f'{i}:',round(df2[i].skew(),2))"
   ]
  },
  {
   "cell_type": "markdown",
   "id": "347fd4d8",
   "metadata": {},
   "source": [
    "#### Observation:\n",
    "- After removing the outliers, the skewness of variables \"Applicant Income\", and \"CoapplicantIncome\" has considerably reduced.\n",
    "\n",
    "#### Next:\n",
    "- To plot the boxplot again after dropping the outliers from \"Applicant Income\", \"CoapplicantIncome\"."
   ]
  },
  {
   "cell_type": "code",
   "execution_count": 2055,
   "id": "7d3e76fc",
   "metadata": {},
   "outputs": [
    {
     "data": {
      "image/png": "[encoded data removed]",
      "text/plain": [
       "<Figure size 1200x2000 with 1 Axes>"
      ]
     },
     "metadata": {},
     "output_type": "display_data"
    }
   ],
   "source": [
    "plt.figure(figsize=(12,20))\n",
    "sns.boxplot(data=df2.select_dtypes([float,int]))\n",
    "plt.xticks(rotation=0)\n",
    "plt.show()"
   ]
  },
  {
   "cell_type": "markdown",
   "id": "7d70f21b",
   "metadata": {},
   "source": [
    "#### Observation:\n",
    "- It can be clearly observed from the boxplot that the outliers have considerably reduced in \"Applicant Income\", and \"CoapplicantIncome\"\n",
    "\n",
    "- However, there is still considerable skewness in all the numerical variables.\n",
    "\n",
    "#### Next:\n",
    "- To reduce the skewness present even after dropping the outliers, there is a need to perform data transformation."
   ]
  },
  {
   "cell_type": "code",
   "execution_count": 2056,
   "id": "fd8b7bac",
   "metadata": {},
   "outputs": [
    {
     "name": "stdout",
     "output_type": "stream",
     "text": [
      "Dependents = 0.74\n",
      "Applicant Income = 0.00\n",
      "CoapplicantIncome = -0.17\n",
      "Loan_Amount = 0.05\n",
      "Loan_Amount_Term = 0.41\n",
      "Credit History = -1.61\n"
     ]
    }
   ],
   "source": [
    "from scipy.stats import boxcox\n",
    "X=pd.DataFrame()\n",
    "for i in df2.select_dtypes(include=[float,int]).columns:\n",
    "    if abs(df2[i].skew())>0.7:\n",
    "        transformed_data, lambda_value = boxcox(df2[i]+1) \n",
    "        X[i]=transformed_data\n",
    "        sk1=pd.Series(X[i]).skew()\n",
    "        print(f'{i} = {sk1:.2f}')"
   ]
  },
  {
   "cell_type": "markdown",
   "id": "23a879ec",
   "metadata": {},
   "source": [
    "#### Observation:\n",
    "- Skewness of all the variables have considerably reduced\n",
    "\n",
    "#### Next:\n",
    "- To replace variables by their transformed values. "
   ]
  },
  {
   "cell_type": "code",
   "execution_count": 2057,
   "id": "844027e0",
   "metadata": {},
   "outputs": [
    {
     "data": {
      "text/html": [
       "<div>\n",
       "<style scoped>\n",
       "    .dataframe tbody tr th:only-of-type {\n",
       "        vertical-align: middle;\n",
       "    }\n",
       "\n",
       "    .dataframe tbody tr th {\n",
       "        vertical-align: top;\n",
       "    }\n",
       "\n",
       "    .dataframe thead th {\n",
       "        text-align: right;\n",
       "    }\n",
       "</style>\n",
       "<table border=\"1\" class=\"dataframe\">\n",
       "  <thead>\n",
       "    <tr style=\"text-align: right;\">\n",
       "      <th></th>\n",
       "      <th>Loan_ID</th>\n",
       "      <th>Gender</th>\n",
       "      <th>Married</th>\n",
       "      <th>Education</th>\n",
       "      <th>Self_Employed</th>\n",
       "      <th>Property_Area</th>\n",
       "      <th>Loan_Status</th>\n",
       "      <th>Dependents</th>\n",
       "      <th>Applicant Income</th>\n",
       "      <th>CoapplicantIncome</th>\n",
       "      <th>Loan_Amount</th>\n",
       "      <th>Loan_Amount_Term</th>\n",
       "      <th>Credit History</th>\n",
       "    </tr>\n",
       "  </thead>\n",
       "  <tbody>\n",
       "    <tr>\n",
       "      <th>0</th>\n",
       "      <td>LP001002</td>\n",
       "      <td>Male</td>\n",
       "      <td>No</td>\n",
       "      <td>Graduate</td>\n",
       "      <td>No</td>\n",
       "      <td>Urban</td>\n",
       "      <td>Y</td>\n",
       "      <td>0.00000</td>\n",
       "      <td>8.874434</td>\n",
       "      <td>0.000000</td>\n",
       "      <td>7.068493</td>\n",
       "      <td>1.496686e+07</td>\n",
       "      <td>45.789263</td>\n",
       "    </tr>\n",
       "    <tr>\n",
       "      <th>1</th>\n",
       "      <td>LP001003</td>\n",
       "      <td>Male</td>\n",
       "      <td>Yes</td>\n",
       "      <td>Graduate</td>\n",
       "      <td>No</td>\n",
       "      <td>Rural</td>\n",
       "      <td>N</td>\n",
       "      <td>0.33421</td>\n",
       "      <td>8.619382</td>\n",
       "      <td>9.445126</td>\n",
       "      <td>6.812853</td>\n",
       "      <td>1.496686e+07</td>\n",
       "      <td>45.789263</td>\n",
       "    </tr>\n",
       "    <tr>\n",
       "      <th>2</th>\n",
       "      <td>LP001005</td>\n",
       "      <td>Male</td>\n",
       "      <td>Yes</td>\n",
       "      <td>Graduate</td>\n",
       "      <td>Yes</td>\n",
       "      <td>Urban</td>\n",
       "      <td>Y</td>\n",
       "      <td>0.00000</td>\n",
       "      <td>8.177106</td>\n",
       "      <td>0.000000</td>\n",
       "      <td>5.620903</td>\n",
       "      <td>1.496686e+07</td>\n",
       "      <td>45.789263</td>\n",
       "    </tr>\n",
       "    <tr>\n",
       "      <th>3</th>\n",
       "      <td>LP001006</td>\n",
       "      <td>Male</td>\n",
       "      <td>Yes</td>\n",
       "      <td>Not Graduate</td>\n",
       "      <td>No</td>\n",
       "      <td>Urban</td>\n",
       "      <td>Y</td>\n",
       "      <td>0.00000</td>\n",
       "      <td>8.021147</td>\n",
       "      <td>10.185465</td>\n",
       "      <td>6.691772</td>\n",
       "      <td>1.496686e+07</td>\n",
       "      <td>45.789263</td>\n",
       "    </tr>\n",
       "    <tr>\n",
       "      <th>4</th>\n",
       "      <td>LP001008</td>\n",
       "      <td>Male</td>\n",
       "      <td>No</td>\n",
       "      <td>Graduate</td>\n",
       "      <td>No</td>\n",
       "      <td>Urban</td>\n",
       "      <td>Y</td>\n",
       "      <td>0.00000</td>\n",
       "      <td>8.901106</td>\n",
       "      <td>0.000000</td>\n",
       "      <td>6.996367</td>\n",
       "      <td>1.496686e+07</td>\n",
       "      <td>45.789263</td>\n",
       "    </tr>\n",
       "  </tbody>\n",
       "</table>\n",
       "</div>"
      ],
      "text/plain": [
       "    Loan_ID Gender Married     Education Self_Employed Property_Area  \\\n",
       "0  LP001002   Male      No      Graduate            No         Urban   \n",
       "1  LP001003   Male     Yes      Graduate            No         Rural   \n",
       "2  LP001005   Male     Yes      Graduate           Yes         Urban   \n",
       "3  LP001006   Male     Yes  Not Graduate            No         Urban   \n",
       "4  LP001008   Male      No      Graduate            No         Urban   \n",
       "\n",
       "  Loan_Status  Dependents  Applicant Income  CoapplicantIncome  Loan_Amount  \\\n",
       "0           Y     0.00000          8.874434           0.000000     7.068493   \n",
       "1           N     0.33421          8.619382           9.445126     6.812853   \n",
       "2           Y     0.00000          8.177106           0.000000     5.620903   \n",
       "3           Y     0.00000          8.021147          10.185465     6.691772   \n",
       "4           Y     0.00000          8.901106           0.000000     6.996367   \n",
       "\n",
       "   Loan_Amount_Term  Credit History  \n",
       "0      1.496686e+07       45.789263  \n",
       "1      1.496686e+07       45.789263  \n",
       "2      1.496686e+07       45.789263  \n",
       "3      1.496686e+07       45.789263  \n",
       "4      1.496686e+07       45.789263  "
      ]
     },
     "execution_count": 2057,
     "metadata": {},
     "output_type": "execute_result"
    }
   ],
   "source": [
    "df3=df2.drop(columns=df2.select_dtypes(include=[float,int]).columns,inplace=False)\n",
    "df3.reset_index(inplace=True)\n",
    "df4=pd.concat([df3,X],axis=1)\n",
    "df4.head()"
   ]
  },
  {
   "cell_type": "markdown",
   "id": "9811f41a",
   "metadata": {},
   "source": [
    "#### Observation:\n",
    "- The float and int type variable shave been replaced by their transformed values.\n",
    "\n",
    "#### Next:\n",
    "- To perform categorical to numerical transformation: \"Gender\", \"Married\", \"Dependents\", \"Education\", \"Self_Employed\", \"Property_Area\",\"Loan_Status\""
   ]
  },
  {
   "cell_type": "code",
   "execution_count": 2058,
   "id": "8e5abe26",
   "metadata": {},
   "outputs": [
    {
     "data": {
      "text/plain": [
       "Gender           2\n",
       "Married          2\n",
       "Dependents       3\n",
       "Education        2\n",
       "Self_Employed    2\n",
       "Property_Area    3\n",
       "Loan_Status      2\n",
       "dtype: int64"
      ]
     },
     "execution_count": 2058,
     "metadata": {},
     "output_type": "execute_result"
    }
   ],
   "source": [
    "df4[[\"Gender\", \"Married\", \"Dependents\", \"Education\", \"Self_Employed\", \"Property_Area\",\"Loan_Status\"]].nunique()"
   ]
  },
  {
   "cell_type": "markdown",
   "id": "9f8c5f15",
   "metadata": {},
   "source": [
    "#### Observation:\n",
    "- There are 2 unique values in each variable.\n",
    "\n",
    "#### Next:\n",
    "- Mapping the target variable \"Loan_Status\" using labels"
   ]
  },
  {
   "cell_type": "code",
   "execution_count": 2059,
   "id": "0d30a953",
   "metadata": {},
   "outputs": [
    {
     "data": {
      "text/plain": [
       "Y    415\n",
       "N    185\n",
       "Name: Loan_Status, dtype: int64"
      ]
     },
     "execution_count": 2059,
     "metadata": {},
     "output_type": "execute_result"
    }
   ],
   "source": [
    "df4[\"Loan_Status\"].value_counts()"
   ]
  },
  {
   "cell_type": "markdown",
   "id": "6bf67967",
   "metadata": {},
   "source": [
    "#### Observation:\n",
    "- Y = 415\n",
    "- N = 185\n",
    "\n",
    "#### Next:\n",
    "- Mapping Y to 1 ; N to 0"
   ]
  },
  {
   "cell_type": "code",
   "execution_count": 2060,
   "id": "fcabc69a",
   "metadata": {},
   "outputs": [],
   "source": [
    "df4[\"Loan_Status\"]=df4[\"Loan_Status\"].map({\"Y\":1,\"N\":0})"
   ]
  },
  {
   "cell_type": "code",
   "execution_count": 2061,
   "id": "14a0f46c",
   "metadata": {},
   "outputs": [
    {
     "data": {
      "text/html": [
       "<div>\n",
       "<style scoped>\n",
       "    .dataframe tbody tr th:only-of-type {\n",
       "        vertical-align: middle;\n",
       "    }\n",
       "\n",
       "    .dataframe tbody tr th {\n",
       "        vertical-align: top;\n",
       "    }\n",
       "\n",
       "    .dataframe thead th {\n",
       "        text-align: right;\n",
       "    }\n",
       "</style>\n",
       "<table border=\"1\" class=\"dataframe\">\n",
       "  <thead>\n",
       "    <tr style=\"text-align: right;\">\n",
       "      <th></th>\n",
       "      <th>Loan_ID</th>\n",
       "      <th>Gender</th>\n",
       "      <th>Married</th>\n",
       "      <th>Education</th>\n",
       "      <th>Self_Employed</th>\n",
       "      <th>Property_Area</th>\n",
       "      <th>Loan_Status</th>\n",
       "      <th>Dependents</th>\n",
       "      <th>Applicant Income</th>\n",
       "      <th>CoapplicantIncome</th>\n",
       "      <th>Loan_Amount</th>\n",
       "      <th>Loan_Amount_Term</th>\n",
       "      <th>Credit History</th>\n",
       "    </tr>\n",
       "  </thead>\n",
       "  <tbody>\n",
       "    <tr>\n",
       "      <th>0</th>\n",
       "      <td>LP001002</td>\n",
       "      <td>Male</td>\n",
       "      <td>No</td>\n",
       "      <td>Graduate</td>\n",
       "      <td>No</td>\n",
       "      <td>Urban</td>\n",
       "      <td>1</td>\n",
       "      <td>0.00000</td>\n",
       "      <td>8.874434</td>\n",
       "      <td>0.000000</td>\n",
       "      <td>7.068493</td>\n",
       "      <td>1.496686e+07</td>\n",
       "      <td>45.789263</td>\n",
       "    </tr>\n",
       "    <tr>\n",
       "      <th>1</th>\n",
       "      <td>LP001003</td>\n",
       "      <td>Male</td>\n",
       "      <td>Yes</td>\n",
       "      <td>Graduate</td>\n",
       "      <td>No</td>\n",
       "      <td>Rural</td>\n",
       "      <td>0</td>\n",
       "      <td>0.33421</td>\n",
       "      <td>8.619382</td>\n",
       "      <td>9.445126</td>\n",
       "      <td>6.812853</td>\n",
       "      <td>1.496686e+07</td>\n",
       "      <td>45.789263</td>\n",
       "    </tr>\n",
       "    <tr>\n",
       "      <th>2</th>\n",
       "      <td>LP001005</td>\n",
       "      <td>Male</td>\n",
       "      <td>Yes</td>\n",
       "      <td>Graduate</td>\n",
       "      <td>Yes</td>\n",
       "      <td>Urban</td>\n",
       "      <td>1</td>\n",
       "      <td>0.00000</td>\n",
       "      <td>8.177106</td>\n",
       "      <td>0.000000</td>\n",
       "      <td>5.620903</td>\n",
       "      <td>1.496686e+07</td>\n",
       "      <td>45.789263</td>\n",
       "    </tr>\n",
       "    <tr>\n",
       "      <th>3</th>\n",
       "      <td>LP001006</td>\n",
       "      <td>Male</td>\n",
       "      <td>Yes</td>\n",
       "      <td>Not Graduate</td>\n",
       "      <td>No</td>\n",
       "      <td>Urban</td>\n",
       "      <td>1</td>\n",
       "      <td>0.00000</td>\n",
       "      <td>8.021147</td>\n",
       "      <td>10.185465</td>\n",
       "      <td>6.691772</td>\n",
       "      <td>1.496686e+07</td>\n",
       "      <td>45.789263</td>\n",
       "    </tr>\n",
       "    <tr>\n",
       "      <th>4</th>\n",
       "      <td>LP001008</td>\n",
       "      <td>Male</td>\n",
       "      <td>No</td>\n",
       "      <td>Graduate</td>\n",
       "      <td>No</td>\n",
       "      <td>Urban</td>\n",
       "      <td>1</td>\n",
       "      <td>0.00000</td>\n",
       "      <td>8.901106</td>\n",
       "      <td>0.000000</td>\n",
       "      <td>6.996367</td>\n",
       "      <td>1.496686e+07</td>\n",
       "      <td>45.789263</td>\n",
       "    </tr>\n",
       "  </tbody>\n",
       "</table>\n",
       "</div>"
      ],
      "text/plain": [
       "    Loan_ID Gender Married     Education Self_Employed Property_Area  \\\n",
       "0  LP001002   Male      No      Graduate            No         Urban   \n",
       "1  LP001003   Male     Yes      Graduate            No         Rural   \n",
       "2  LP001005   Male     Yes      Graduate           Yes         Urban   \n",
       "3  LP001006   Male     Yes  Not Graduate            No         Urban   \n",
       "4  LP001008   Male      No      Graduate            No         Urban   \n",
       "\n",
       "   Loan_Status  Dependents  Applicant Income  CoapplicantIncome  Loan_Amount  \\\n",
       "0            1     0.00000          8.874434           0.000000     7.068493   \n",
       "1            0     0.33421          8.619382           9.445126     6.812853   \n",
       "2            1     0.00000          8.177106           0.000000     5.620903   \n",
       "3            1     0.00000          8.021147          10.185465     6.691772   \n",
       "4            1     0.00000          8.901106           0.000000     6.996367   \n",
       "\n",
       "   Loan_Amount_Term  Credit History  \n",
       "0      1.496686e+07       45.789263  \n",
       "1      1.496686e+07       45.789263  \n",
       "2      1.496686e+07       45.789263  \n",
       "3      1.496686e+07       45.789263  \n",
       "4      1.496686e+07       45.789263  "
      ]
     },
     "execution_count": 2061,
     "metadata": {},
     "output_type": "execute_result"
    }
   ],
   "source": [
    "df4.head()"
   ]
  },
  {
   "cell_type": "markdown",
   "id": "d2597899",
   "metadata": {},
   "source": [
    "#### Observation:\n",
    "- Y got replaced by 1 and N got replaced by 0.\n",
    "\n",
    "#### Next:\n",
    "- Using one hot encoding for \"Gender\", \"Married\", \"Dependents\", \"Education\", \"Self_Employed\", \"Property_Area\""
   ]
  },
  {
   "cell_type": "code",
   "execution_count": 2062,
   "id": "b3b884da",
   "metadata": {},
   "outputs": [
    {
     "data": {
      "text/html": [
       "<div>\n",
       "<style scoped>\n",
       "    .dataframe tbody tr th:only-of-type {\n",
       "        vertical-align: middle;\n",
       "    }\n",
       "\n",
       "    .dataframe tbody tr th {\n",
       "        vertical-align: top;\n",
       "    }\n",
       "\n",
       "    .dataframe thead th {\n",
       "        text-align: right;\n",
       "    }\n",
       "</style>\n",
       "<table border=\"1\" class=\"dataframe\">\n",
       "  <thead>\n",
       "    <tr style=\"text-align: right;\">\n",
       "      <th></th>\n",
       "      <th>Dependents</th>\n",
       "      <th>Gender_Male</th>\n",
       "      <th>Married_Yes</th>\n",
       "      <th>Education_Not Graduate</th>\n",
       "      <th>Self_Employed_Yes</th>\n",
       "      <th>Property_Area_Semiurban</th>\n",
       "      <th>Property_Area_Urban</th>\n",
       "    </tr>\n",
       "  </thead>\n",
       "  <tbody>\n",
       "    <tr>\n",
       "      <th>0</th>\n",
       "      <td>0.00000</td>\n",
       "      <td>1</td>\n",
       "      <td>0</td>\n",
       "      <td>0</td>\n",
       "      <td>0</td>\n",
       "      <td>0</td>\n",
       "      <td>1</td>\n",
       "    </tr>\n",
       "    <tr>\n",
       "      <th>1</th>\n",
       "      <td>0.33421</td>\n",
       "      <td>1</td>\n",
       "      <td>1</td>\n",
       "      <td>0</td>\n",
       "      <td>0</td>\n",
       "      <td>0</td>\n",
       "      <td>0</td>\n",
       "    </tr>\n",
       "    <tr>\n",
       "      <th>2</th>\n",
       "      <td>0.00000</td>\n",
       "      <td>1</td>\n",
       "      <td>1</td>\n",
       "      <td>0</td>\n",
       "      <td>1</td>\n",
       "      <td>0</td>\n",
       "      <td>1</td>\n",
       "    </tr>\n",
       "    <tr>\n",
       "      <th>3</th>\n",
       "      <td>0.00000</td>\n",
       "      <td>1</td>\n",
       "      <td>1</td>\n",
       "      <td>1</td>\n",
       "      <td>0</td>\n",
       "      <td>0</td>\n",
       "      <td>1</td>\n",
       "    </tr>\n",
       "    <tr>\n",
       "      <th>4</th>\n",
       "      <td>0.00000</td>\n",
       "      <td>1</td>\n",
       "      <td>0</td>\n",
       "      <td>0</td>\n",
       "      <td>0</td>\n",
       "      <td>0</td>\n",
       "      <td>1</td>\n",
       "    </tr>\n",
       "  </tbody>\n",
       "</table>\n",
       "</div>"
      ],
      "text/plain": [
       "   Dependents  Gender_Male  Married_Yes  Education_Not Graduate  \\\n",
       "0     0.00000            1            0                       0   \n",
       "1     0.33421            1            1                       0   \n",
       "2     0.00000            1            1                       0   \n",
       "3     0.00000            1            1                       1   \n",
       "4     0.00000            1            0                       0   \n",
       "\n",
       "   Self_Employed_Yes  Property_Area_Semiurban  Property_Area_Urban  \n",
       "0                  0                        0                    1  \n",
       "1                  0                        0                    0  \n",
       "2                  1                        0                    1  \n",
       "3                  0                        0                    1  \n",
       "4                  0                        0                    1  "
      ]
     },
     "execution_count": 2062,
     "metadata": {},
     "output_type": "execute_result"
    }
   ],
   "source": [
    "df_encoded=pd.get_dummies(df4[[\"Gender\", \"Married\", \"Dependents\", \"Education\", \"Self_Employed\", \"Property_Area\"]],drop_first=True)\n",
    "df_encoded.head()"
   ]
  },
  {
   "cell_type": "code",
   "execution_count": 2063,
   "id": "18fefb42",
   "metadata": {},
   "outputs": [
    {
     "data": {
      "text/plain": [
       "(600, 6)"
      ]
     },
     "execution_count": 2063,
     "metadata": {},
     "output_type": "execute_result"
    }
   ],
   "source": [
    "df5=df4.drop(columns=[\"Gender\", \"Married\", \"Dependents\", \"Education\", \"Self_Employed\", \"Property_Area\",\"Loan_Status\"],inplace=False)\n",
    "df5.shape"
   ]
  },
  {
   "cell_type": "code",
   "execution_count": 2064,
   "id": "c04c731c",
   "metadata": {},
   "outputs": [
    {
     "data": {
      "text/plain": [
       "(600, 14)"
      ]
     },
     "execution_count": 2064,
     "metadata": {},
     "output_type": "execute_result"
    }
   ],
   "source": [
    "df6=pd.concat([df5,df_encoded,df4[\"Loan_Status\"]],axis=1)\n",
    "df6.shape"
   ]
  },
  {
   "cell_type": "markdown",
   "id": "8c56f1e8",
   "metadata": {},
   "source": [
    "#### Observation:\n",
    "- The categorical variables have been replaced by their encoded values and concatenated to with the rest of the variables.\n",
    "\n",
    "#### Next:\n",
    "- Setting 'Loan_ID' as index"
   ]
  },
  {
   "cell_type": "code",
   "execution_count": 2065,
   "id": "af13d8cd",
   "metadata": {},
   "outputs": [],
   "source": [
    "df6.set_index('Loan_ID', inplace=True)"
   ]
  },
  {
   "cell_type": "code",
   "execution_count": 2066,
   "id": "faaa4ff8",
   "metadata": {},
   "outputs": [
    {
     "data": {
      "text/html": [
       "<div>\n",
       "<style scoped>\n",
       "    .dataframe tbody tr th:only-of-type {\n",
       "        vertical-align: middle;\n",
       "    }\n",
       "\n",
       "    .dataframe tbody tr th {\n",
       "        vertical-align: top;\n",
       "    }\n",
       "\n",
       "    .dataframe thead th {\n",
       "        text-align: right;\n",
       "    }\n",
       "</style>\n",
       "<table border=\"1\" class=\"dataframe\">\n",
       "  <thead>\n",
       "    <tr style=\"text-align: right;\">\n",
       "      <th></th>\n",
       "      <th>Applicant Income</th>\n",
       "      <th>CoapplicantIncome</th>\n",
       "      <th>Loan_Amount</th>\n",
       "      <th>Loan_Amount_Term</th>\n",
       "      <th>Credit History</th>\n",
       "      <th>Dependents</th>\n",
       "      <th>Gender_Male</th>\n",
       "      <th>Married_Yes</th>\n",
       "      <th>Education_Not Graduate</th>\n",
       "      <th>Self_Employed_Yes</th>\n",
       "      <th>Property_Area_Semiurban</th>\n",
       "      <th>Property_Area_Urban</th>\n",
       "      <th>Loan_Status</th>\n",
       "    </tr>\n",
       "    <tr>\n",
       "      <th>Loan_ID</th>\n",
       "      <th></th>\n",
       "      <th></th>\n",
       "      <th></th>\n",
       "      <th></th>\n",
       "      <th></th>\n",
       "      <th></th>\n",
       "      <th></th>\n",
       "      <th></th>\n",
       "      <th></th>\n",
       "      <th></th>\n",
       "      <th></th>\n",
       "      <th></th>\n",
       "      <th></th>\n",
       "    </tr>\n",
       "  </thead>\n",
       "  <tbody>\n",
       "    <tr>\n",
       "      <th>LP001002</th>\n",
       "      <td>8.874434</td>\n",
       "      <td>0.000000</td>\n",
       "      <td>7.068493</td>\n",
       "      <td>1.496686e+07</td>\n",
       "      <td>45.789263</td>\n",
       "      <td>0.00000</td>\n",
       "      <td>1</td>\n",
       "      <td>0</td>\n",
       "      <td>0</td>\n",
       "      <td>0</td>\n",
       "      <td>0</td>\n",
       "      <td>1</td>\n",
       "      <td>1</td>\n",
       "    </tr>\n",
       "    <tr>\n",
       "      <th>LP001003</th>\n",
       "      <td>8.619382</td>\n",
       "      <td>9.445126</td>\n",
       "      <td>6.812853</td>\n",
       "      <td>1.496686e+07</td>\n",
       "      <td>45.789263</td>\n",
       "      <td>0.33421</td>\n",
       "      <td>1</td>\n",
       "      <td>1</td>\n",
       "      <td>0</td>\n",
       "      <td>0</td>\n",
       "      <td>0</td>\n",
       "      <td>0</td>\n",
       "      <td>0</td>\n",
       "    </tr>\n",
       "    <tr>\n",
       "      <th>LP001005</th>\n",
       "      <td>8.177106</td>\n",
       "      <td>0.000000</td>\n",
       "      <td>5.620903</td>\n",
       "      <td>1.496686e+07</td>\n",
       "      <td>45.789263</td>\n",
       "      <td>0.00000</td>\n",
       "      <td>1</td>\n",
       "      <td>1</td>\n",
       "      <td>0</td>\n",
       "      <td>1</td>\n",
       "      <td>0</td>\n",
       "      <td>1</td>\n",
       "      <td>1</td>\n",
       "    </tr>\n",
       "    <tr>\n",
       "      <th>LP001006</th>\n",
       "      <td>8.021147</td>\n",
       "      <td>10.185465</td>\n",
       "      <td>6.691772</td>\n",
       "      <td>1.496686e+07</td>\n",
       "      <td>45.789263</td>\n",
       "      <td>0.00000</td>\n",
       "      <td>1</td>\n",
       "      <td>1</td>\n",
       "      <td>1</td>\n",
       "      <td>0</td>\n",
       "      <td>0</td>\n",
       "      <td>1</td>\n",
       "      <td>1</td>\n",
       "    </tr>\n",
       "    <tr>\n",
       "      <th>LP001008</th>\n",
       "      <td>8.901106</td>\n",
       "      <td>0.000000</td>\n",
       "      <td>6.996367</td>\n",
       "      <td>1.496686e+07</td>\n",
       "      <td>45.789263</td>\n",
       "      <td>0.00000</td>\n",
       "      <td>1</td>\n",
       "      <td>0</td>\n",
       "      <td>0</td>\n",
       "      <td>0</td>\n",
       "      <td>0</td>\n",
       "      <td>1</td>\n",
       "      <td>1</td>\n",
       "    </tr>\n",
       "  </tbody>\n",
       "</table>\n",
       "</div>"
      ],
      "text/plain": [
       "          Applicant Income  CoapplicantIncome  Loan_Amount  Loan_Amount_Term  \\\n",
       "Loan_ID                                                                        \n",
       "LP001002          8.874434           0.000000     7.068493      1.496686e+07   \n",
       "LP001003          8.619382           9.445126     6.812853      1.496686e+07   \n",
       "LP001005          8.177106           0.000000     5.620903      1.496686e+07   \n",
       "LP001006          8.021147          10.185465     6.691772      1.496686e+07   \n",
       "LP001008          8.901106           0.000000     6.996367      1.496686e+07   \n",
       "\n",
       "          Credit History  Dependents  Gender_Male  Married_Yes  \\\n",
       "Loan_ID                                                          \n",
       "LP001002       45.789263     0.00000            1            0   \n",
       "LP001003       45.789263     0.33421            1            1   \n",
       "LP001005       45.789263     0.00000            1            1   \n",
       "LP001006       45.789263     0.00000            1            1   \n",
       "LP001008       45.789263     0.00000            1            0   \n",
       "\n",
       "          Education_Not Graduate  Self_Employed_Yes  Property_Area_Semiurban  \\\n",
       "Loan_ID                                                                        \n",
       "LP001002                       0                  0                        0   \n",
       "LP001003                       0                  0                        0   \n",
       "LP001005                       0                  1                        0   \n",
       "LP001006                       1                  0                        0   \n",
       "LP001008                       0                  0                        0   \n",
       "\n",
       "          Property_Area_Urban  Loan_Status  \n",
       "Loan_ID                                     \n",
       "LP001002                    1            1  \n",
       "LP001003                    0            0  \n",
       "LP001005                    1            1  \n",
       "LP001006                    1            1  \n",
       "LP001008                    1            1  "
      ]
     },
     "execution_count": 2066,
     "metadata": {},
     "output_type": "execute_result"
    }
   ],
   "source": [
    "df6.head()"
   ]
  },
  {
   "cell_type": "code",
   "execution_count": 2067,
   "id": "c6853dc8",
   "metadata": {
    "scrolled": true
   },
   "outputs": [
    {
     "name": "stdout",
     "output_type": "stream",
     "text": [
      "<class 'pandas.core.frame.DataFrame'>\n",
      "Index: 600 entries, LP001002 to LP002990\n",
      "Data columns (total 13 columns):\n",
      " #   Column                   Non-Null Count  Dtype  \n",
      "---  ------                   --------------  -----  \n",
      " 0   Applicant Income         600 non-null    float64\n",
      " 1   CoapplicantIncome        600 non-null    float64\n",
      " 2   Loan_Amount              600 non-null    float64\n",
      " 3   Loan_Amount_Term         600 non-null    float64\n",
      " 4   Credit History           600 non-null    float64\n",
      " 5   Dependents               600 non-null    float64\n",
      " 6   Gender_Male              600 non-null    uint8  \n",
      " 7   Married_Yes              600 non-null    uint8  \n",
      " 8   Education_Not Graduate   600 non-null    uint8  \n",
      " 9   Self_Employed_Yes        600 non-null    uint8  \n",
      " 10  Property_Area_Semiurban  600 non-null    uint8  \n",
      " 11  Property_Area_Urban      600 non-null    uint8  \n",
      " 12  Loan_Status              600 non-null    int64  \n",
      "dtypes: float64(6), int64(1), uint8(6)\n",
      "memory usage: 41.0+ KB\n"
     ]
    }
   ],
   "source": [
    "df6.info()"
   ]
  },
  {
   "cell_type": "markdown",
   "id": "22de96d2",
   "metadata": {},
   "source": [
    "#### Observation:\n",
    "- There are no missing values and all the variables are of numerical data type\n",
    "\n",
    "#### Next\n",
    "- Checking the scale of the variables"
   ]
  },
  {
   "cell_type": "code",
   "execution_count": 2068,
   "id": "30aa95e9",
   "metadata": {},
   "outputs": [
    {
     "data": {
      "text/html": [
       "<div>\n",
       "<style scoped>\n",
       "    .dataframe tbody tr th:only-of-type {\n",
       "        vertical-align: middle;\n",
       "    }\n",
       "\n",
       "    .dataframe tbody tr th {\n",
       "        vertical-align: top;\n",
       "    }\n",
       "\n",
       "    .dataframe thead th {\n",
       "        text-align: right;\n",
       "    }\n",
       "</style>\n",
       "<table border=\"1\" class=\"dataframe\">\n",
       "  <thead>\n",
       "    <tr style=\"text-align: right;\">\n",
       "      <th></th>\n",
       "      <th>Applicant Income</th>\n",
       "      <th>CoapplicantIncome</th>\n",
       "      <th>Loan_Amount</th>\n",
       "      <th>Loan_Amount_Term</th>\n",
       "      <th>Credit History</th>\n",
       "      <th>Dependents</th>\n",
       "      <th>Gender_Male</th>\n",
       "      <th>Married_Yes</th>\n",
       "      <th>Education_Not Graduate</th>\n",
       "      <th>Self_Employed_Yes</th>\n",
       "      <th>Property_Area_Semiurban</th>\n",
       "      <th>Property_Area_Urban</th>\n",
       "      <th>Loan_Status</th>\n",
       "    </tr>\n",
       "  </thead>\n",
       "  <tbody>\n",
       "    <tr>\n",
       "      <th>count</th>\n",
       "      <td>600.000000</td>\n",
       "      <td>600.000000</td>\n",
       "      <td>600.000000</td>\n",
       "      <td>6.000000e+02</td>\n",
       "      <td>600.000000</td>\n",
       "      <td>600.000000</td>\n",
       "      <td>600.000000</td>\n",
       "      <td>600.000000</td>\n",
       "      <td>600.000000</td>\n",
       "      <td>600.000000</td>\n",
       "      <td>600.000000</td>\n",
       "      <td>600.000000</td>\n",
       "      <td>600.000000</td>\n",
       "    </tr>\n",
       "    <tr>\n",
       "      <th>mean</th>\n",
       "      <td>8.500547</td>\n",
       "      <td>5.604400</td>\n",
       "      <td>6.827751</td>\n",
       "      <td>1.404259e+07</td>\n",
       "      <td>37.321692</td>\n",
       "      <td>0.118745</td>\n",
       "      <td>0.815000</td>\n",
       "      <td>0.651667</td>\n",
       "      <td>0.223333</td>\n",
       "      <td>0.133333</td>\n",
       "      <td>0.376667</td>\n",
       "      <td>0.328333</td>\n",
       "      <td>0.691667</td>\n",
       "    </tr>\n",
       "    <tr>\n",
       "      <th>std</th>\n",
       "      <td>0.605671</td>\n",
       "      <td>5.062382</td>\n",
       "      <td>0.892251</td>\n",
       "      <td>5.214794e+06</td>\n",
       "      <td>16.543525</td>\n",
       "      <td>0.169256</td>\n",
       "      <td>0.388622</td>\n",
       "      <td>0.476840</td>\n",
       "      <td>0.416827</td>\n",
       "      <td>0.340218</td>\n",
       "      <td>0.484954</td>\n",
       "      <td>0.469999</td>\n",
       "      <td>0.462190</td>\n",
       "    </tr>\n",
       "    <tr>\n",
       "      <th>min</th>\n",
       "      <td>5.083843</td>\n",
       "      <td>0.000000</td>\n",
       "      <td>2.690799</td>\n",
       "      <td>7.183988e+02</td>\n",
       "      <td>0.000000</td>\n",
       "      <td>0.000000</td>\n",
       "      <td>0.000000</td>\n",
       "      <td>0.000000</td>\n",
       "      <td>0.000000</td>\n",
       "      <td>0.000000</td>\n",
       "      <td>0.000000</td>\n",
       "      <td>0.000000</td>\n",
       "      <td>0.000000</td>\n",
       "    </tr>\n",
       "    <tr>\n",
       "      <th>25%</th>\n",
       "      <td>8.134734</td>\n",
       "      <td>0.000000</td>\n",
       "      <td>6.355550</td>\n",
       "      <td>1.496686e+07</td>\n",
       "      <td>45.789263</td>\n",
       "      <td>0.000000</td>\n",
       "      <td>1.000000</td>\n",
       "      <td>0.000000</td>\n",
       "      <td>0.000000</td>\n",
       "      <td>0.000000</td>\n",
       "      <td>0.000000</td>\n",
       "      <td>0.000000</td>\n",
       "      <td>0.000000</td>\n",
       "    </tr>\n",
       "    <tr>\n",
       "      <th>50%</th>\n",
       "      <td>8.415017</td>\n",
       "      <td>9.059597</td>\n",
       "      <td>6.812853</td>\n",
       "      <td>1.496686e+07</td>\n",
       "      <td>45.789263</td>\n",
       "      <td>0.000000</td>\n",
       "      <td>1.000000</td>\n",
       "      <td>1.000000</td>\n",
       "      <td>0.000000</td>\n",
       "      <td>0.000000</td>\n",
       "      <td>0.000000</td>\n",
       "      <td>0.000000</td>\n",
       "      <td>1.000000</td>\n",
       "    </tr>\n",
       "    <tr>\n",
       "      <th>75%</th>\n",
       "      <td>8.848215</td>\n",
       "      <td>10.109188</td>\n",
       "      <td>7.242951</td>\n",
       "      <td>1.496686e+07</td>\n",
       "      <td>45.789263</td>\n",
       "      <td>0.334210</td>\n",
       "      <td>1.000000</td>\n",
       "      <td>1.000000</td>\n",
       "      <td>0.000000</td>\n",
       "      <td>0.000000</td>\n",
       "      <td>1.000000</td>\n",
       "      <td>1.000000</td>\n",
       "      <td>1.000000</td>\n",
       "    </tr>\n",
       "    <tr>\n",
       "      <th>max</th>\n",
       "      <td>10.208102</td>\n",
       "      <td>12.537679</td>\n",
       "      <td>10.240247</td>\n",
       "      <td>3.531807e+07</td>\n",
       "      <td>45.789263</td>\n",
       "      <td>0.381605</td>\n",
       "      <td>1.000000</td>\n",
       "      <td>1.000000</td>\n",
       "      <td>1.000000</td>\n",
       "      <td>1.000000</td>\n",
       "      <td>1.000000</td>\n",
       "      <td>1.000000</td>\n",
       "      <td>1.000000</td>\n",
       "    </tr>\n",
       "  </tbody>\n",
       "</table>\n",
       "</div>"
      ],
      "text/plain": [
       "       Applicant Income  CoapplicantIncome  Loan_Amount  Loan_Amount_Term  \\\n",
       "count        600.000000         600.000000   600.000000      6.000000e+02   \n",
       "mean           8.500547           5.604400     6.827751      1.404259e+07   \n",
       "std            0.605671           5.062382     0.892251      5.214794e+06   \n",
       "min            5.083843           0.000000     2.690799      7.183988e+02   \n",
       "25%            8.134734           0.000000     6.355550      1.496686e+07   \n",
       "50%            8.415017           9.059597     6.812853      1.496686e+07   \n",
       "75%            8.848215          10.109188     7.242951      1.496686e+07   \n",
       "max           10.208102          12.537679    10.240247      3.531807e+07   \n",
       "\n",
       "       Credit History  Dependents  Gender_Male  Married_Yes  \\\n",
       "count      600.000000  600.000000   600.000000   600.000000   \n",
       "mean        37.321692    0.118745     0.815000     0.651667   \n",
       "std         16.543525    0.169256     0.388622     0.476840   \n",
       "min          0.000000    0.000000     0.000000     0.000000   \n",
       "25%         45.789263    0.000000     1.000000     0.000000   \n",
       "50%         45.789263    0.000000     1.000000     1.000000   \n",
       "75%         45.789263    0.334210     1.000000     1.000000   \n",
       "max         45.789263    0.381605     1.000000     1.000000   \n",
       "\n",
       "       Education_Not Graduate  Self_Employed_Yes  Property_Area_Semiurban  \\\n",
       "count              600.000000         600.000000               600.000000   \n",
       "mean                 0.223333           0.133333                 0.376667   \n",
       "std                  0.416827           0.340218                 0.484954   \n",
       "min                  0.000000           0.000000                 0.000000   \n",
       "25%                  0.000000           0.000000                 0.000000   \n",
       "50%                  0.000000           0.000000                 0.000000   \n",
       "75%                  0.000000           0.000000                 1.000000   \n",
       "max                  1.000000           1.000000                 1.000000   \n",
       "\n",
       "       Property_Area_Urban  Loan_Status  \n",
       "count           600.000000   600.000000  \n",
       "mean              0.328333     0.691667  \n",
       "std               0.469999     0.462190  \n",
       "min               0.000000     0.000000  \n",
       "25%               0.000000     0.000000  \n",
       "50%               0.000000     1.000000  \n",
       "75%               1.000000     1.000000  \n",
       "max               1.000000     1.000000  "
      ]
     },
     "execution_count": 2068,
     "metadata": {},
     "output_type": "execute_result"
    }
   ],
   "source": [
    "df6.describe()"
   ]
  },
  {
   "cell_type": "markdown",
   "id": "d7fbeb09",
   "metadata": {},
   "source": [
    "#### Observation:\n",
    "- Variable \"Loan_Amount_Term\" is of the order 10^7 whereas varaible \"Dependents\" is of order 0.1.\n",
    "\n",
    "#### Next:\n",
    "- Scaling the dataframe using min max scaler"
   ]
  },
  {
   "cell_type": "code",
   "execution_count": 2069,
   "id": "9cfdb9e9",
   "metadata": {},
   "outputs": [
    {
     "data": {
      "text/html": [
       "<div>\n",
       "<style scoped>\n",
       "    .dataframe tbody tr th:only-of-type {\n",
       "        vertical-align: middle;\n",
       "    }\n",
       "\n",
       "    .dataframe tbody tr th {\n",
       "        vertical-align: top;\n",
       "    }\n",
       "\n",
       "    .dataframe thead th {\n",
       "        text-align: right;\n",
       "    }\n",
       "</style>\n",
       "<table border=\"1\" class=\"dataframe\">\n",
       "  <thead>\n",
       "    <tr style=\"text-align: right;\">\n",
       "      <th></th>\n",
       "      <th>Applicant Income</th>\n",
       "      <th>CoapplicantIncome</th>\n",
       "      <th>Loan_Amount</th>\n",
       "      <th>Loan_Amount_Term</th>\n",
       "      <th>Credit History</th>\n",
       "      <th>Dependents</th>\n",
       "      <th>Gender_Male</th>\n",
       "      <th>Married_Yes</th>\n",
       "      <th>Education_Not Graduate</th>\n",
       "      <th>Self_Employed_Yes</th>\n",
       "      <th>Property_Area_Semiurban</th>\n",
       "      <th>Property_Area_Urban</th>\n",
       "    </tr>\n",
       "  </thead>\n",
       "  <tbody>\n",
       "    <tr>\n",
       "      <th>count</th>\n",
       "      <td>600.000000</td>\n",
       "      <td>600.000000</td>\n",
       "      <td>600.000000</td>\n",
       "      <td>600.000000</td>\n",
       "      <td>600.000000</td>\n",
       "      <td>600.000000</td>\n",
       "      <td>600.000000</td>\n",
       "      <td>600.000000</td>\n",
       "      <td>600.000000</td>\n",
       "      <td>600.000000</td>\n",
       "      <td>600.000000</td>\n",
       "      <td>600.000000</td>\n",
       "    </tr>\n",
       "    <tr>\n",
       "      <th>mean</th>\n",
       "      <td>0.666770</td>\n",
       "      <td>0.447005</td>\n",
       "      <td>0.547981</td>\n",
       "      <td>0.397591</td>\n",
       "      <td>0.815075</td>\n",
       "      <td>0.311174</td>\n",
       "      <td>0.815000</td>\n",
       "      <td>0.651667</td>\n",
       "      <td>0.223333</td>\n",
       "      <td>0.133333</td>\n",
       "      <td>0.376667</td>\n",
       "      <td>0.328333</td>\n",
       "    </tr>\n",
       "    <tr>\n",
       "      <th>std</th>\n",
       "      <td>0.118197</td>\n",
       "      <td>0.403773</td>\n",
       "      <td>0.118188</td>\n",
       "      <td>0.147655</td>\n",
       "      <td>0.361297</td>\n",
       "      <td>0.443537</td>\n",
       "      <td>0.388622</td>\n",
       "      <td>0.476840</td>\n",
       "      <td>0.416827</td>\n",
       "      <td>0.340218</td>\n",
       "      <td>0.484954</td>\n",
       "      <td>0.469999</td>\n",
       "    </tr>\n",
       "    <tr>\n",
       "      <th>min</th>\n",
       "      <td>0.000000</td>\n",
       "      <td>0.000000</td>\n",
       "      <td>0.000000</td>\n",
       "      <td>0.000000</td>\n",
       "      <td>0.000000</td>\n",
       "      <td>0.000000</td>\n",
       "      <td>0.000000</td>\n",
       "      <td>0.000000</td>\n",
       "      <td>0.000000</td>\n",
       "      <td>0.000000</td>\n",
       "      <td>0.000000</td>\n",
       "      <td>0.000000</td>\n",
       "    </tr>\n",
       "    <tr>\n",
       "      <th>25%</th>\n",
       "      <td>0.595382</td>\n",
       "      <td>0.000000</td>\n",
       "      <td>0.485433</td>\n",
       "      <td>0.423762</td>\n",
       "      <td>1.000000</td>\n",
       "      <td>0.000000</td>\n",
       "      <td>1.000000</td>\n",
       "      <td>0.000000</td>\n",
       "      <td>0.000000</td>\n",
       "      <td>0.000000</td>\n",
       "      <td>0.000000</td>\n",
       "      <td>0.000000</td>\n",
       "    </tr>\n",
       "    <tr>\n",
       "      <th>50%</th>\n",
       "      <td>0.650079</td>\n",
       "      <td>0.722590</td>\n",
       "      <td>0.546007</td>\n",
       "      <td>0.423762</td>\n",
       "      <td>1.000000</td>\n",
       "      <td>0.000000</td>\n",
       "      <td>1.000000</td>\n",
       "      <td>1.000000</td>\n",
       "      <td>0.000000</td>\n",
       "      <td>0.000000</td>\n",
       "      <td>0.000000</td>\n",
       "      <td>0.000000</td>\n",
       "    </tr>\n",
       "    <tr>\n",
       "      <th>75%</th>\n",
       "      <td>0.734618</td>\n",
       "      <td>0.806305</td>\n",
       "      <td>0.602978</td>\n",
       "      <td>0.423762</td>\n",
       "      <td>1.000000</td>\n",
       "      <td>0.875800</td>\n",
       "      <td>1.000000</td>\n",
       "      <td>1.000000</td>\n",
       "      <td>0.000000</td>\n",
       "      <td>0.000000</td>\n",
       "      <td>1.000000</td>\n",
       "      <td>1.000000</td>\n",
       "    </tr>\n",
       "    <tr>\n",
       "      <th>max</th>\n",
       "      <td>1.000000</td>\n",
       "      <td>1.000000</td>\n",
       "      <td>1.000000</td>\n",
       "      <td>1.000000</td>\n",
       "      <td>1.000000</td>\n",
       "      <td>1.000000</td>\n",
       "      <td>1.000000</td>\n",
       "      <td>1.000000</td>\n",
       "      <td>1.000000</td>\n",
       "      <td>1.000000</td>\n",
       "      <td>1.000000</td>\n",
       "      <td>1.000000</td>\n",
       "    </tr>\n",
       "  </tbody>\n",
       "</table>\n",
       "</div>"
      ],
      "text/plain": [
       "       Applicant Income  CoapplicantIncome  Loan_Amount  Loan_Amount_Term  \\\n",
       "count        600.000000         600.000000   600.000000        600.000000   \n",
       "mean           0.666770           0.447005     0.547981          0.397591   \n",
       "std            0.118197           0.403773     0.118188          0.147655   \n",
       "min            0.000000           0.000000     0.000000          0.000000   \n",
       "25%            0.595382           0.000000     0.485433          0.423762   \n",
       "50%            0.650079           0.722590     0.546007          0.423762   \n",
       "75%            0.734618           0.806305     0.602978          0.423762   \n",
       "max            1.000000           1.000000     1.000000          1.000000   \n",
       "\n",
       "       Credit History  Dependents  Gender_Male  Married_Yes  \\\n",
       "count      600.000000  600.000000   600.000000   600.000000   \n",
       "mean         0.815075    0.311174     0.815000     0.651667   \n",
       "std          0.361297    0.443537     0.388622     0.476840   \n",
       "min          0.000000    0.000000     0.000000     0.000000   \n",
       "25%          1.000000    0.000000     1.000000     0.000000   \n",
       "50%          1.000000    0.000000     1.000000     1.000000   \n",
       "75%          1.000000    0.875800     1.000000     1.000000   \n",
       "max          1.000000    1.000000     1.000000     1.000000   \n",
       "\n",
       "       Education_Not Graduate  Self_Employed_Yes  Property_Area_Semiurban  \\\n",
       "count              600.000000         600.000000               600.000000   \n",
       "mean                 0.223333           0.133333                 0.376667   \n",
       "std                  0.416827           0.340218                 0.484954   \n",
       "min                  0.000000           0.000000                 0.000000   \n",
       "25%                  0.000000           0.000000                 0.000000   \n",
       "50%                  0.000000           0.000000                 0.000000   \n",
       "75%                  0.000000           0.000000                 1.000000   \n",
       "max                  1.000000           1.000000                 1.000000   \n",
       "\n",
       "       Property_Area_Urban  \n",
       "count           600.000000  \n",
       "mean              0.328333  \n",
       "std               0.469999  \n",
       "min               0.000000  \n",
       "25%               0.000000  \n",
       "50%               0.000000  \n",
       "75%               1.000000  \n",
       "max               1.000000  "
      ]
     },
     "execution_count": 2069,
     "metadata": {},
     "output_type": "execute_result"
    }
   ],
   "source": [
    "from sklearn.preprocessing import MinMaxScaler\n",
    "scale=MinMaxScaler()\n",
    "X1=df6.drop(columns='Loan_Status',inplace=False)\n",
    "X2=scale.fit_transform(X1)\n",
    "X3=pd.DataFrame(X2,columns=X1.columns)\n",
    "X3.describe()"
   ]
  },
  {
   "cell_type": "markdown",
   "id": "2ae35017",
   "metadata": {},
   "source": [
    "#### Observation:\n",
    "- All the variables have been scaled between 0 and 1.\n",
    "\n",
    "#### Next:\n",
    "- To remove class imbalance of variable 'Loan_Status'"
   ]
  },
  {
   "cell_type": "code",
   "execution_count": 2070,
   "id": "8a16dfaa",
   "metadata": {},
   "outputs": [
    {
     "data": {
      "text/plain": [
       "1    415\n",
       "0    185\n",
       "Name: Loan_Status, dtype: int64"
      ]
     },
     "execution_count": 2070,
     "metadata": {},
     "output_type": "execute_result"
    }
   ],
   "source": [
    "y=df6['Loan_Status']\n",
    "y.value_counts()"
   ]
  },
  {
   "cell_type": "markdown",
   "id": "d8edbb96",
   "metadata": {},
   "source": [
    "#### Observation:\n",
    "- Class 1 which represents \"Y\" is in majority compared to class 0 which represents \"N\".\n",
    "\n",
    "#### Next:\n",
    "- Using SMOTE to create additional minority classes"
   ]
  },
  {
   "cell_type": "code",
   "execution_count": 2071,
   "id": "3452b4fd",
   "metadata": {},
   "outputs": [],
   "source": [
    "from imblearn.over_sampling import SMOTE\n",
    "ST=SMOTE()\n",
    "X3,y = ST.fit_resample(X3,y)"
   ]
  },
  {
   "cell_type": "code",
   "execution_count": 2072,
   "id": "fd8138fe",
   "metadata": {},
   "outputs": [
    {
     "data": {
      "text/plain": [
       "1    415\n",
       "0    415\n",
       "Name: Loan_Status, dtype: int64"
      ]
     },
     "execution_count": 2072,
     "metadata": {},
     "output_type": "execute_result"
    }
   ],
   "source": [
    "y.value_counts()"
   ]
  },
  {
   "cell_type": "markdown",
   "id": "c0738b50",
   "metadata": {},
   "source": [
    "#### Observation:\n",
    "- Both the classes Class 1 which represents \"Y\" and class 0 which represents \"N\" have now become balanced.\n",
    "\n",
    "#### Next:\n",
    "- To build the model"
   ]
  },
  {
   "cell_type": "markdown",
   "id": "05dcde6b",
   "metadata": {},
   "source": [
    "## Model Building"
   ]
  },
  {
   "cell_type": "code",
   "execution_count": 2073,
   "id": "56ea123c",
   "metadata": {},
   "outputs": [],
   "source": [
    "# Import Classification libraries\n",
    "from sklearn.linear_model import LogisticRegression\n",
    "from sklearn.tree import DecisionTreeClassifier\n",
    "from sklearn.ensemble import RandomForestClassifier\n",
    "from sklearn.ensemble import AdaBoostClassifier\n",
    "from sklearn.ensemble import GradientBoostingClassifier\n",
    "from sklearn.svm import SVC\n",
    "from sklearn.neighbors import KNeighborsClassifier\n",
    "from sklearn.metrics import accuracy_score,confusion_matrix,classification_report\n",
    "from sklearn.model_selection import cross_val_score,GridSearchCV"
   ]
  },
  {
   "cell_type": "markdown",
   "id": "38856ec3",
   "metadata": {},
   "source": [
    "### Logistic Regression\n",
    "#### Random state: To find the best one"
   ]
  },
  {
   "cell_type": "code",
   "execution_count": 2074,
   "id": "91f82ca9",
   "metadata": {},
   "outputs": [
    {
     "name": "stdout",
     "output_type": "stream",
     "text": [
      "Max accuracy: 0.81\n",
      "Best_random_state: 481\n"
     ]
    }
   ],
   "source": [
    "from sklearn.model_selection import train_test_split\n",
    "maxAcc=0\n",
    "for i in range(1000):\n",
    "    X_train,X_test,y_train,y_test = train_test_split(X3,y, test_size=0.3,random_state=i)\n",
    "    LR=LogisticRegression()\n",
    "    model=LR.fit(X_train,y_train)\n",
    "    y_pred=model.predict(X_test)\n",
    "    Acc=accuracy_score(y_test,y_pred)\n",
    "    if Acc>maxAcc:\n",
    "        maxAcc=Acc\n",
    "        random=i\n",
    "print(f'Max accuracy: {round(maxAcc,2)}')\n",
    "print(f'Best_random_state: {random}')"
   ]
  },
  {
   "cell_type": "markdown",
   "id": "d28b93f5",
   "metadata": {},
   "source": [
    "#### Observation: \n",
    "- Random state (in range of 1000) with best accuracy(=0.77) is 532.\n",
    "\n",
    "#### Next:\n",
    "- using this value of random state will be used in model building."
   ]
  },
  {
   "cell_type": "code",
   "execution_count": 2075,
   "id": "907a6892",
   "metadata": {},
   "outputs": [
    {
     "name": "stdout",
     "output_type": "stream",
     "text": [
      "Accuracy score : 0.807\n",
      "Cross validation score: 0.692\n",
      "Classification report:\n",
      "               precision    recall  f1-score   support\n",
      "\n",
      "           0       0.88      0.73      0.80       130\n",
      "           1       0.75      0.89      0.82       119\n",
      "\n",
      "    accuracy                           0.81       249\n",
      "   macro avg       0.82      0.81      0.81       249\n",
      "weighted avg       0.82      0.81      0.81       249\n",
      "\n",
      "Confusion matrix:\n",
      " [[ 95  35]\n",
      " [ 13 106]]\n"
     ]
    }
   ],
   "source": [
    "X_train,X_test,y_train,y_test = train_test_split(X3,y, test_size=0.3,random_state=random)\n",
    "LR=LogisticRegression()\n",
    "model=LR.fit(X_train,y_train)\n",
    "y_pred=model.predict(X_test)\n",
    "Acc=accuracy_score(y_test,y_pred)\n",
    "report=classification_report(y_test,y_pred)\n",
    "conf_matrix=confusion_matrix(y_test,y_pred)\n",
    "cv_score=cross_val_score(LR,X_train,y_train,cv=10).mean()  # performing 10 folds cross validation\n",
    "print(f'Accuracy score : {round(Acc,3)}')\n",
    "print(f'Cross validation score: {round(cv_score,3)}')\n",
    "print(f'Classification report:\\n {report}')\n",
    "print(f'Confusion matrix:\\n {conf_matrix}')"
   ]
  },
  {
   "cell_type": "markdown",
   "id": "6db256c9",
   "metadata": {},
   "source": [
    "### Decision Tree Classifier"
   ]
  },
  {
   "cell_type": "code",
   "execution_count": 2076,
   "id": "5802fb5d",
   "metadata": {},
   "outputs": [
    {
     "name": "stdout",
     "output_type": "stream",
     "text": [
      "Accuracy score : 0.755\n",
      "Cross validation score: 0.719\n",
      "Classification report:\n",
      "               precision    recall  f1-score   support\n",
      "\n",
      "           0       0.78      0.74      0.76       130\n",
      "           1       0.73      0.77      0.75       119\n",
      "\n",
      "    accuracy                           0.76       249\n",
      "   macro avg       0.76      0.76      0.75       249\n",
      "weighted avg       0.76      0.76      0.76       249\n",
      "\n",
      "Confusion matrix:\n",
      " [[96 34]\n",
      " [27 92]]\n"
     ]
    }
   ],
   "source": [
    "X_train,X_test,y_train,y_test = train_test_split(X3,y, test_size=0.3,random_state=random)\n",
    "DT=DecisionTreeClassifier()\n",
    "model_DT=DT.fit(X_train,y_train)\n",
    "y_pred_DT=model_DT.predict(X_test)\n",
    "Acc=accuracy_score(y_test,y_pred_DT)\n",
    "report=classification_report(y_test,y_pred_DT)\n",
    "conf_matrix=confusion_matrix(y_test,y_pred_DT)\n",
    "cv_score=cross_val_score(DT,X_train,y_train,cv=10).mean()  # performing 10 folds cross validation\n",
    "print(f'Accuracy score : {round(Acc,3)}')\n",
    "print(f'Cross validation score: {round(cv_score,3)}')\n",
    "print(f'Classification report:\\n {report}')\n",
    "print(f'Confusion matrix:\\n {conf_matrix}')"
   ]
  },
  {
   "cell_type": "markdown",
   "id": "76519f89",
   "metadata": {},
   "source": [
    "### Random Forest Classifier"
   ]
  },
  {
   "cell_type": "code",
   "execution_count": 2077,
   "id": "24d8c1f7",
   "metadata": {},
   "outputs": [
    {
     "name": "stdout",
     "output_type": "stream",
     "text": [
      "Accuracy score : 0.835\n",
      "Cross validation score: 0.792\n",
      "Classification report:\n",
      "               precision    recall  f1-score   support\n",
      "\n",
      "           0       0.87      0.80      0.84       130\n",
      "           1       0.80      0.87      0.84       119\n",
      "\n",
      "    accuracy                           0.84       249\n",
      "   macro avg       0.84      0.84      0.84       249\n",
      "weighted avg       0.84      0.84      0.84       249\n",
      "\n",
      "Confusion matrix:\n",
      " [[104  26]\n",
      " [ 15 104]]\n"
     ]
    }
   ],
   "source": [
    "X_train,X_test,y_train,y_test = train_test_split(X3,y, test_size=0.3,random_state=random)\n",
    "RF=RandomForestClassifier()\n",
    "model_RF=RF.fit(X_train,y_train)\n",
    "y_pred_RF=model_RF.predict(X_test)\n",
    "Acc=accuracy_score(y_test,y_pred_RF)\n",
    "report=classification_report(y_test,y_pred_RF)\n",
    "conf_matrix=confusion_matrix(y_test,y_pred_RF)\n",
    "cv_score=cross_val_score(RF,X_train,y_train,cv=10).mean()  # performing 10 folds cross validation\n",
    "print(f'Accuracy score : {round(Acc,3)}')\n",
    "print(f'Cross validation score: {round(cv_score,3)}')\n",
    "print(f'Classification report:\\n {report}')\n",
    "print(f'Confusion matrix:\\n {conf_matrix}')"
   ]
  },
  {
   "cell_type": "markdown",
   "id": "3e0751e2",
   "metadata": {},
   "source": [
    "### AdaBoost Classifier"
   ]
  },
  {
   "cell_type": "code",
   "execution_count": 2078,
   "id": "5353b675",
   "metadata": {},
   "outputs": [
    {
     "name": "stdout",
     "output_type": "stream",
     "text": [
      "Accuracy score : 0.791\n",
      "Cross validation score: 0.73\n",
      "Classification report:\n",
      "               precision    recall  f1-score   support\n",
      "\n",
      "           0       0.82      0.77      0.79       130\n",
      "           1       0.76      0.82      0.79       119\n",
      "\n",
      "    accuracy                           0.79       249\n",
      "   macro avg       0.79      0.79      0.79       249\n",
      "weighted avg       0.79      0.79      0.79       249\n",
      "\n",
      "Confusion matrix:\n",
      " [[100  30]\n",
      " [ 22  97]]\n"
     ]
    }
   ],
   "source": [
    "X_train,X_test,y_train,y_test = train_test_split(X3,y, test_size=0.3,random_state=random)\n",
    "AB=AdaBoostClassifier()\n",
    "model_AB=AB.fit(X_train,y_train)\n",
    "y_pred_AB=model_AB.predict(X_test)\n",
    "Acc=accuracy_score(y_test,y_pred_AB)\n",
    "report=classification_report(y_test,y_pred_AB)\n",
    "conf_matrix=confusion_matrix(y_test,y_pred_AB)\n",
    "cv_score=cross_val_score(AB,X_train,y_train,cv=10).mean()  # performing 10 folds cross validation\n",
    "print(f'Accuracy score : {round(Acc,3)}')\n",
    "print(f'Cross validation score: {round(cv_score,3)}')\n",
    "print(f'Classification report:\\n {report}')\n",
    "print(f'Confusion matrix:\\n {conf_matrix}')"
   ]
  },
  {
   "cell_type": "markdown",
   "id": "3c65d8e2",
   "metadata": {},
   "source": [
    "### Gradient Boosting Classifier"
   ]
  },
  {
   "cell_type": "code",
   "execution_count": 2079,
   "id": "d0695f07",
   "metadata": {},
   "outputs": [
    {
     "name": "stdout",
     "output_type": "stream",
     "text": [
      "Accuracy score : 0.831\n",
      "Cross validation score: 0.757\n",
      "Classification report:\n",
      "               precision    recall  f1-score   support\n",
      "\n",
      "           0       0.90      0.76      0.83       130\n",
      "           1       0.78      0.91      0.84       119\n",
      "\n",
      "    accuracy                           0.83       249\n",
      "   macro avg       0.84      0.83      0.83       249\n",
      "weighted avg       0.84      0.83      0.83       249\n",
      "\n",
      "Confusion matrix:\n",
      " [[ 99  31]\n",
      " [ 11 108]]\n"
     ]
    }
   ],
   "source": [
    "X_train,X_test,y_train,y_test = train_test_split(X3,y, test_size=0.3,random_state=random)\n",
    "GB=GradientBoostingClassifier()\n",
    "model_GB=GB.fit(X_train,y_train)\n",
    "y_pred_GB=model_GB.predict(X_test)\n",
    "Acc=accuracy_score(y_test,y_pred_GB)\n",
    "report=classification_report(y_test,y_pred_GB)\n",
    "conf_matrix=confusion_matrix(y_test,y_pred_GB)\n",
    "cv_score=cross_val_score(GB,X_train,y_train,cv=10).mean()  # performing 10 folds cross validation\n",
    "print(f'Accuracy score : {round(Acc,3)}')\n",
    "print(f'Cross validation score: {round(cv_score,3)}')\n",
    "print(f'Classification report:\\n {report}')\n",
    "print(f'Confusion matrix:\\n {conf_matrix}')"
   ]
  },
  {
   "cell_type": "markdown",
   "id": "02851952",
   "metadata": {},
   "source": [
    "### Support Vector Classifier"
   ]
  },
  {
   "cell_type": "code",
   "execution_count": 2080,
   "id": "2c86a6e4",
   "metadata": {},
   "outputs": [
    {
     "name": "stdout",
     "output_type": "stream",
     "text": [
      "Accuracy score : 0.767\n",
      "Cross validation score: 0.73\n",
      "Classification report:\n",
      "               precision    recall  f1-score   support\n",
      "\n",
      "           0       0.79      0.76      0.77       130\n",
      "           1       0.75      0.77      0.76       119\n",
      "\n",
      "    accuracy                           0.77       249\n",
      "   macro avg       0.77      0.77      0.77       249\n",
      "weighted avg       0.77      0.77      0.77       249\n",
      "\n",
      "Confusion matrix:\n",
      " [[99 31]\n",
      " [27 92]]\n"
     ]
    }
   ],
   "source": [
    "X_train,X_test,y_train,y_test = train_test_split(X3,y, test_size=0.3,random_state=random)\n",
    "SV=SVC()\n",
    "model_SV=SV.fit(X_train,y_train)\n",
    "y_pred_SV=model_SV.predict(X_test)\n",
    "Acc=accuracy_score(y_test,y_pred_SV)\n",
    "report=classification_report(y_test,y_pred_SV)\n",
    "conf_matrix=confusion_matrix(y_test,y_pred_SV)\n",
    "cv_score=cross_val_score(SV,X_train,y_train,cv=10).mean()  # performing 10 folds cross validation\n",
    "print(f'Accuracy score : {round(Acc,3)}')\n",
    "print(f'Cross validation score: {round(cv_score,3)}')\n",
    "print(f'Classification report:\\n {report}')\n",
    "print(f'Confusion matrix:\\n {conf_matrix}')"
   ]
  },
  {
   "cell_type": "markdown",
   "id": "fbdb90dc",
   "metadata": {},
   "source": [
    "### K Neighbors Classifier"
   ]
  },
  {
   "cell_type": "code",
   "execution_count": 2081,
   "id": "6d568d24",
   "metadata": {},
   "outputs": [
    {
     "name": "stdout",
     "output_type": "stream",
     "text": [
      "Accuracy score : 0.747\n",
      "Cross validation score: 0.723\n",
      "Classification report:\n",
      "               precision    recall  f1-score   support\n",
      "\n",
      "           0       0.76      0.76      0.76       130\n",
      "           1       0.74      0.73      0.73       119\n",
      "\n",
      "    accuracy                           0.75       249\n",
      "   macro avg       0.75      0.75      0.75       249\n",
      "weighted avg       0.75      0.75      0.75       249\n",
      "\n",
      "Confusion matrix:\n",
      " [[99 31]\n",
      " [32 87]]\n"
     ]
    },
    {
     "name": "stderr",
     "output_type": "stream",
     "text": [
      "C:\\Users\\admin\\anaconda3\\lib\\site-packages\\sklearn\\neighbors\\_classification.py:228: FutureWarning: Unlike other reduction functions (e.g. `skew`, `kurtosis`), the default behavior of `mode` typically preserves the axis it acts along. In SciPy 1.11.0, this behavior will change: the default value of `keepdims` will become False, the `axis` over which the statistic is taken will be eliminated, and the value None will no longer be accepted. Set `keepdims` to True or False to avoid this warning.\n",
      "  mode, _ = stats.mode(_y[neigh_ind, k], axis=1)\n",
      "C:\\Users\\admin\\anaconda3\\lib\\site-packages\\sklearn\\neighbors\\_classification.py:228: FutureWarning: Unlike other reduction functions (e.g. `skew`, `kurtosis`), the default behavior of `mode` typically preserves the axis it acts along. In SciPy 1.11.0, this behavior will change: the default value of `keepdims` will become False, the `axis` over which the statistic is taken will be eliminated, and the value None will no longer be accepted. Set `keepdims` to True or False to avoid this warning.\n",
      "  mode, _ = stats.mode(_y[neigh_ind, k], axis=1)\n",
      "C:\\Users\\admin\\anaconda3\\lib\\site-packages\\sklearn\\neighbors\\_classification.py:228: FutureWarning: Unlike other reduction functions (e.g. `skew`, `kurtosis`), the default behavior of `mode` typically preserves the axis it acts along. In SciPy 1.11.0, this behavior will change: the default value of `keepdims` will become False, the `axis` over which the statistic is taken will be eliminated, and the value None will no longer be accepted. Set `keepdims` to True or False to avoid this warning.\n",
      "  mode, _ = stats.mode(_y[neigh_ind, k], axis=1)\n",
      "C:\\Users\\admin\\anaconda3\\lib\\site-packages\\sklearn\\neighbors\\_classification.py:228: FutureWarning: Unlike other reduction functions (e.g. `skew`, `kurtosis`), the default behavior of `mode` typically preserves the axis it acts along. In SciPy 1.11.0, this behavior will change: the default value of `keepdims` will become False, the `axis` over which the statistic is taken will be eliminated, and the value None will no longer be accepted. Set `keepdims` to True or False to avoid this warning.\n",
      "  mode, _ = stats.mode(_y[neigh_ind, k], axis=1)\n",
      "C:\\Users\\admin\\anaconda3\\lib\\site-packages\\sklearn\\neighbors\\_classification.py:228: FutureWarning: Unlike other reduction functions (e.g. `skew`, `kurtosis`), the default behavior of `mode` typically preserves the axis it acts along. In SciPy 1.11.0, this behavior will change: the default value of `keepdims` will become False, the `axis` over which the statistic is taken will be eliminated, and the value None will no longer be accepted. Set `keepdims` to True or False to avoid this warning.\n",
      "  mode, _ = stats.mode(_y[neigh_ind, k], axis=1)\n",
      "C:\\Users\\admin\\anaconda3\\lib\\site-packages\\sklearn\\neighbors\\_classification.py:228: FutureWarning: Unlike other reduction functions (e.g. `skew`, `kurtosis`), the default behavior of `mode` typically preserves the axis it acts along. In SciPy 1.11.0, this behavior will change: the default value of `keepdims` will become False, the `axis` over which the statistic is taken will be eliminated, and the value None will no longer be accepted. Set `keepdims` to True or False to avoid this warning.\n",
      "  mode, _ = stats.mode(_y[neigh_ind, k], axis=1)\n",
      "C:\\Users\\admin\\anaconda3\\lib\\site-packages\\sklearn\\neighbors\\_classification.py:228: FutureWarning: Unlike other reduction functions (e.g. `skew`, `kurtosis`), the default behavior of `mode` typically preserves the axis it acts along. In SciPy 1.11.0, this behavior will change: the default value of `keepdims` will become False, the `axis` over which the statistic is taken will be eliminated, and the value None will no longer be accepted. Set `keepdims` to True or False to avoid this warning.\n",
      "  mode, _ = stats.mode(_y[neigh_ind, k], axis=1)\n",
      "C:\\Users\\admin\\anaconda3\\lib\\site-packages\\sklearn\\neighbors\\_classification.py:228: FutureWarning: Unlike other reduction functions (e.g. `skew`, `kurtosis`), the default behavior of `mode` typically preserves the axis it acts along. In SciPy 1.11.0, this behavior will change: the default value of `keepdims` will become False, the `axis` over which the statistic is taken will be eliminated, and the value None will no longer be accepted. Set `keepdims` to True or False to avoid this warning.\n",
      "  mode, _ = stats.mode(_y[neigh_ind, k], axis=1)\n",
      "C:\\Users\\admin\\anaconda3\\lib\\site-packages\\sklearn\\neighbors\\_classification.py:228: FutureWarning: Unlike other reduction functions (e.g. `skew`, `kurtosis`), the default behavior of `mode` typically preserves the axis it acts along. In SciPy 1.11.0, this behavior will change: the default value of `keepdims` will become False, the `axis` over which the statistic is taken will be eliminated, and the value None will no longer be accepted. Set `keepdims` to True or False to avoid this warning.\n",
      "  mode, _ = stats.mode(_y[neigh_ind, k], axis=1)\n",
      "C:\\Users\\admin\\anaconda3\\lib\\site-packages\\sklearn\\neighbors\\_classification.py:228: FutureWarning: Unlike other reduction functions (e.g. `skew`, `kurtosis`), the default behavior of `mode` typically preserves the axis it acts along. In SciPy 1.11.0, this behavior will change: the default value of `keepdims` will become False, the `axis` over which the statistic is taken will be eliminated, and the value None will no longer be accepted. Set `keepdims` to True or False to avoid this warning.\n",
      "  mode, _ = stats.mode(_y[neigh_ind, k], axis=1)\n",
      "C:\\Users\\admin\\anaconda3\\lib\\site-packages\\sklearn\\neighbors\\_classification.py:228: FutureWarning: Unlike other reduction functions (e.g. `skew`, `kurtosis`), the default behavior of `mode` typically preserves the axis it acts along. In SciPy 1.11.0, this behavior will change: the default value of `keepdims` will become False, the `axis` over which the statistic is taken will be eliminated, and the value None will no longer be accepted. Set `keepdims` to True or False to avoid this warning.\n",
      "  mode, _ = stats.mode(_y[neigh_ind, k], axis=1)\n"
     ]
    }
   ],
   "source": [
    "X_train,X_test,y_train,y_test = train_test_split(X3,y, test_size=0.3,random_state=random)\n",
    "KN=KNeighborsClassifier()\n",
    "model_KN=KN.fit(X_train,y_train)\n",
    "y_pred_KN=model_KN.predict(X_test)\n",
    "Acc=accuracy_score(y_test,y_pred_KN)\n",
    "report=classification_report(y_test,y_pred_KN)\n",
    "conf_matrix=confusion_matrix(y_test,y_pred_KN)\n",
    "cv_score=cross_val_score(KN,X_train,y_train,cv=10).mean()  # performing 10 folds cross validation\n",
    "print(f'Accuracy score : {round(Acc,3)}')\n",
    "print(f'Cross validation score: {round(cv_score,3)}')\n",
    "print(f'Classification report:\\n {report}')\n",
    "print(f'Confusion matrix:\\n {conf_matrix}')"
   ]
  },
  {
   "cell_type": "markdown",
   "id": "5bde3bca",
   "metadata": {},
   "source": [
    "#### Observation: \n",
    "- We observe that among all the classification algorithms \"Random forest classifier\" has the best accuracy (0.86).\n",
    "\n",
    "#### Next, \n",
    "- To improve the accuracy of the \"Random forest classifier\", we will perform hyperparameter tuning using GridSearchCV."
   ]
  },
  {
   "cell_type": "markdown",
   "id": "826c25d7",
   "metadata": {},
   "source": [
    "### Hyperparameter tuning: Random Forest Classifier using GridSearchCV\n",
    "- Currently used hyperparameters by Random Forest Classifier"
   ]
  },
  {
   "cell_type": "code",
   "execution_count": 2082,
   "id": "f11a6772",
   "metadata": {},
   "outputs": [
    {
     "name": "stdout",
     "output_type": "stream",
     "text": [
      "Parameters currently in use:\n",
      "\n"
     ]
    },
    {
     "data": {
      "text/plain": [
       "{'bootstrap': True,\n",
       " 'ccp_alpha': 0.0,\n",
       " 'class_weight': None,\n",
       " 'criterion': 'gini',\n",
       " 'max_depth': None,\n",
       " 'max_features': 'auto',\n",
       " 'max_leaf_nodes': None,\n",
       " 'max_samples': None,\n",
       " 'min_impurity_decrease': 0.0,\n",
       " 'min_samples_leaf': 1,\n",
       " 'min_samples_split': 2,\n",
       " 'min_weight_fraction_leaf': 0.0,\n",
       " 'n_estimators': 100,\n",
       " 'n_jobs': None,\n",
       " 'oob_score': False,\n",
       " 'random_state': None,\n",
       " 'verbose': 0,\n",
       " 'warm_start': False}"
      ]
     },
     "execution_count": 2082,
     "metadata": {},
     "output_type": "execute_result"
    }
   ],
   "source": [
    "print('Parameters currently in use:\\n')\n",
    "GridSearchCV.get_params(RandomForestClassifier())"
   ]
  },
  {
   "cell_type": "code",
   "execution_count": 2083,
   "id": "3c4a9a12",
   "metadata": {
    "scrolled": true
   },
   "outputs": [
    {
     "name": "stdout",
     "output_type": "stream",
     "text": [
      "Best parameters: {'bootstrap': True, 'ccp_alpha': 0, 'class_weight': None, 'criterion': 'gini', 'max_depth': 20, 'max_features': 'auto', 'min_impurity_decrease': 0.0, 'min_samples_leaf': 1, 'min_samples_split': 2, 'min_weight_fraction_leaf': 0.0, 'n_estimators': 300, 'n_jobs': -1, 'oob_score': False, 'random_state': 481, 'verbose': 0, 'warm_start': True}\n",
      "Best estimators: RandomForestClassifier(ccp_alpha=0, max_depth=20, n_estimators=300, n_jobs=-1,\n",
      "                       random_state=481, warm_start=True)\n",
      "Best score: 0.804\n"
     ]
    }
   ],
   "source": [
    "from sklearn.model_selection import GridSearchCV\n",
    "RF1=RandomForestClassifier()\n",
    "\n",
    "hyp={'bootstrap': [True],                # each tree is built using a bootstrap sample of the training data\n",
    " 'ccp_alpha': [0, 0.01, 0.1, 1.0],       # to control the complexity of the tree by pruning\n",
    " 'class_weight': [None],                 # set to none as both classes are balanced\n",
    " 'criterion': ['gini','entropy'],\n",
    " 'max_depth': [2,6,10,14,18,20,22,24],   # maximum depth of each decision tree in the forest\n",
    " 'max_features': ['auto'],\n",
    " 'min_impurity_decrease': [0.0],      # minimum impurity decrease required to split a node further\n",
    " 'min_samples_leaf': [1],\n",
    " 'min_samples_split': [2,3,5,10],\n",
    " 'min_weight_fraction_leaf':[0.0],\n",
    " 'n_estimators': [100,200,300],      # number of base learners (trees) to be included in the ensemble\n",
    " 'n_jobs': [-1],                     # Utilize all available cores\n",
    " 'oob_score': [False],               # average of the prediction accuracy on each out-of-bag sample across all trees in the forest.\n",
    " 'random_state': [random],\n",
    " 'verbose': [0],\n",
    " 'warm_start': [True]}                # to reuse the existing solution and continue training an ensemble method from where it left off\n",
    "grid_search=GridSearchCV(RandomForestClassifier(),param_grid=hyp,cv=5)\n",
    "model_hyp=grid_search.fit(X_train,y_train)\n",
    "\n",
    "print(\"Best parameters:\", grid_search.best_params_)\n",
    "print(\"Best estimators:\", grid_search.best_estimator_)\n",
    "print(\"Best score:\", round(grid_search.best_score_,3))"
   ]
  },
  {
   "cell_type": "markdown",
   "id": "5b7133b0",
   "metadata": {},
   "source": [
    "#### Observation: \n",
    "- The hypertuned Random Forest Model has poorer accuracy compared to the default \"Random Forest Model\".\n",
    "\n",
    "#### Next:\n",
    "- We save the default \"Random Forest Model\" as the final model."
   ]
  },
  {
   "cell_type": "markdown",
   "id": "5d91c42c",
   "metadata": {},
   "source": [
    "### Final model: saving \"Random Forest Model\""
   ]
  },
  {
   "cell_type": "code",
   "execution_count": 2084,
   "id": "4cc01edb",
   "metadata": {},
   "outputs": [],
   "source": [
    "import pickle\n",
    "with open('Loan status','wb') as f:\n",
    "    pickle.dump(model_RF,f)"
   ]
  },
  {
   "cell_type": "markdown",
   "id": "451b7529",
   "metadata": {},
   "source": [
    "### Loading the saved model"
   ]
  },
  {
   "cell_type": "code",
   "execution_count": 2085,
   "id": "f4eb07c3",
   "metadata": {},
   "outputs": [],
   "source": [
    "with open('Loan status','rb') as f:\n",
    "    mrf=pickle.load(f)\n",
    "    "
   ]
  },
  {
   "cell_type": "code",
   "execution_count": 2088,
   "id": "5708225f",
   "metadata": {},
   "outputs": [
    {
     "data": {
      "text/plain": [
       "0.835"
      ]
     },
     "execution_count": 2088,
     "metadata": {},
     "output_type": "execute_result"
    }
   ],
   "source": [
    "round(mrf.score(X_test,y_test),3)"
   ]
  },
  {
   "cell_type": "code",
   "execution_count": null,
   "id": "6fd77a01",
   "metadata": {},
   "outputs": [],
   "source": []
  }
 ],
 "metadata": {
  "kernelspec": {
   "display_name": "Python 3 (ipykernel)",
   "language": "python",
   "name": "python3"
  },
  "language_info": {
   "codemirror_mode": {
    "name": "ipython",
    "version": 3
   },
   "file_extension": ".py",
   "mimetype": "text/x-python",
   "name": "python",
   "nbconvert_exporter": "python",
   "pygments_lexer": "ipython3",
   "version": "3.9.13"
  }
 },
 "nbformat": 4,
 "nbformat_minor": 5
}
